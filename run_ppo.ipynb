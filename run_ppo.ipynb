{
 "cells": [
  {
   "cell_type": "code",
   "execution_count": 1,
   "metadata": {},
   "outputs": [
    {
     "name": "stderr",
     "output_type": "stream",
     "text": [
      "2025-01-11 11:16:31.604607: E external/local_xla/xla/stream_executor/cuda/cuda_fft.cc:477] Unable to register cuFFT factory: Attempting to register factory for plugin cuFFT when one has already been registered\n",
      "WARNING: All log messages before absl::InitializeLog() is called are written to STDERR\n",
      "E0000 00:00:1736590591.737395    4480 cuda_dnn.cc:8310] Unable to register cuDNN factory: Attempting to register factory for plugin cuDNN when one has already been registered\n",
      "E0000 00:00:1736590591.775615    4480 cuda_blas.cc:1418] Unable to register cuBLAS factory: Attempting to register factory for plugin cuBLAS when one has already been registered\n",
      "2025-01-11 11:16:32.075908: I tensorflow/core/platform/cpu_feature_guard.cc:210] This TensorFlow binary is optimized to use available CPU instructions in performance-critical operations.\n",
      "To enable the following instructions: AVX2 FMA, in other operations, rebuild TensorFlow with the appropriate compiler flags.\n"
     ]
    }
   ],
   "source": [
    "import numpy as np\n",
    "import tensorflow as tf\n",
    "import gym\n",
    "from ppo import PPO\n",
    "from recorder import Recorder\n",
    "from logRewards import DataLogger\n",
    "import warnings\n",
    "warnings.filterwarnings('ignore') #ignora warnings\n",
    "seed=42"
   ]
  },
  {
   "cell_type": "code",
   "execution_count": 2,
   "metadata": {},
   "outputs": [
    {
     "name": "stderr",
     "output_type": "stream",
     "text": [
      "I0000 00:00:1736590597.821757    4480 gpu_device.cc:2022] Created device /job:localhost/replica:0/task:0/device:GPU:0 with 2784 MB memory:  -> device: 0, name: NVIDIA GeForce GTX 1650, pci bus id: 0000:01:00.0, compute capability: 7.5\n"
     ]
    },
    {
     "name": "stdout",
     "output_type": "stream",
     "text": [
      "ACTOR CRITIC LOADED\n"
     ]
    },
    {
     "data": {
      "text/html": [
       "<pre style=\"white-space:pre;overflow-x:auto;line-height:normal;font-family:Menlo,'DejaVu Sans Mono',consolas,'Courier New',monospace\"><span style=\"font-weight: bold\">Model: \"actor_ppo\"</span>\n",
       "</pre>\n"
      ],
      "text/plain": [
       "\u001b[1mModel: \"actor_ppo\"\u001b[0m\n"
      ]
     },
     "metadata": {},
     "output_type": "display_data"
    },
    {
     "data": {
      "text/html": [
       "<pre style=\"white-space:pre;overflow-x:auto;line-height:normal;font-family:Menlo,'DejaVu Sans Mono',consolas,'Courier New',monospace\">┏━━━━━━━━━━━━━━━━━━━━━━━━━━━━━━━━━┳━━━━━━━━━━━━━━━━━━━━━━━━┳━━━━━━━━━━━━━━━┓\n",
       "┃<span style=\"font-weight: bold\"> Layer (type)                    </span>┃<span style=\"font-weight: bold\"> Output Shape           </span>┃<span style=\"font-weight: bold\">       Param # </span>┃\n",
       "┡━━━━━━━━━━━━━━━━━━━━━━━━━━━━━━━━━╇━━━━━━━━━━━━━━━━━━━━━━━━╇━━━━━━━━━━━━━━━┩\n",
       "│ sequential (<span style=\"color: #0087ff; text-decoration-color: #0087ff\">Sequential</span>)         │ (<span style=\"color: #00d7ff; text-decoration-color: #00d7ff\">None</span>, <span style=\"color: #00af00; text-decoration-color: #00af00\">128</span>)            │        <span style=\"color: #00af00; text-decoration-color: #00af00\">44,096</span> │\n",
       "├─────────────────────────────────┼────────────────────────┼───────────────┤\n",
       "│ actor_ppo_dense4 (<span style=\"color: #0087ff; text-decoration-color: #0087ff\">Dense</span>)        │ (<span style=\"color: #00af00; text-decoration-color: #00af00\">1</span>, <span style=\"color: #00af00; text-decoration-color: #00af00\">15</span>)                │         <span style=\"color: #00af00; text-decoration-color: #00af00\">1,935</span> │\n",
       "└─────────────────────────────────┴────────────────────────┴───────────────┘\n",
       "</pre>\n"
      ],
      "text/plain": [
       "┏━━━━━━━━━━━━━━━━━━━━━━━━━━━━━━━━━┳━━━━━━━━━━━━━━━━━━━━━━━━┳━━━━━━━━━━━━━━━┓\n",
       "┃\u001b[1m \u001b[0m\u001b[1mLayer (type)                   \u001b[0m\u001b[1m \u001b[0m┃\u001b[1m \u001b[0m\u001b[1mOutput Shape          \u001b[0m\u001b[1m \u001b[0m┃\u001b[1m \u001b[0m\u001b[1m      Param #\u001b[0m\u001b[1m \u001b[0m┃\n",
       "┡━━━━━━━━━━━━━━━━━━━━━━━━━━━━━━━━━╇━━━━━━━━━━━━━━━━━━━━━━━━╇━━━━━━━━━━━━━━━┩\n",
       "│ sequential (\u001b[38;5;33mSequential\u001b[0m)         │ (\u001b[38;5;45mNone\u001b[0m, \u001b[38;5;34m128\u001b[0m)            │        \u001b[38;5;34m44,096\u001b[0m │\n",
       "├─────────────────────────────────┼────────────────────────┼───────────────┤\n",
       "│ actor_ppo_dense4 (\u001b[38;5;33mDense\u001b[0m)        │ (\u001b[38;5;34m1\u001b[0m, \u001b[38;5;34m15\u001b[0m)                │         \u001b[38;5;34m1,935\u001b[0m │\n",
       "└─────────────────────────────────┴────────────────────────┴───────────────┘\n"
      ]
     },
     "metadata": {},
     "output_type": "display_data"
    },
    {
     "data": {
      "text/html": [
       "<pre style=\"white-space:pre;overflow-x:auto;line-height:normal;font-family:Menlo,'DejaVu Sans Mono',consolas,'Courier New',monospace\"><span style=\"font-weight: bold\"> Total params: </span><span style=\"color: #00af00; text-decoration-color: #00af00\">138,095</span> (539.44 KB)\n",
       "</pre>\n"
      ],
      "text/plain": [
       "\u001b[1m Total params: \u001b[0m\u001b[38;5;34m138,095\u001b[0m (539.44 KB)\n"
      ]
     },
     "metadata": {},
     "output_type": "display_data"
    },
    {
     "data": {
      "text/html": [
       "<pre style=\"white-space:pre;overflow-x:auto;line-height:normal;font-family:Menlo,'DejaVu Sans Mono',consolas,'Courier New',monospace\"><span style=\"font-weight: bold\"> Trainable params: </span><span style=\"color: #00af00; text-decoration-color: #00af00\">46,031</span> (179.81 KB)\n",
       "</pre>\n"
      ],
      "text/plain": [
       "\u001b[1m Trainable params: \u001b[0m\u001b[38;5;34m46,031\u001b[0m (179.81 KB)\n"
      ]
     },
     "metadata": {},
     "output_type": "display_data"
    },
    {
     "data": {
      "text/html": [
       "<pre style=\"white-space:pre;overflow-x:auto;line-height:normal;font-family:Menlo,'DejaVu Sans Mono',consolas,'Courier New',monospace\"><span style=\"font-weight: bold\"> Non-trainable params: </span><span style=\"color: #00af00; text-decoration-color: #00af00\">0</span> (0.00 B)\n",
       "</pre>\n"
      ],
      "text/plain": [
       "\u001b[1m Non-trainable params: \u001b[0m\u001b[38;5;34m0\u001b[0m (0.00 B)\n"
      ]
     },
     "metadata": {},
     "output_type": "display_data"
    },
    {
     "data": {
      "text/html": [
       "<pre style=\"white-space:pre;overflow-x:auto;line-height:normal;font-family:Menlo,'DejaVu Sans Mono',consolas,'Courier New',monospace\"><span style=\"font-weight: bold\"> Optimizer params: </span><span style=\"color: #00af00; text-decoration-color: #00af00\">92,064</span> (359.63 KB)\n",
       "</pre>\n"
      ],
      "text/plain": [
       "\u001b[1m Optimizer params: \u001b[0m\u001b[38;5;34m92,064\u001b[0m (359.63 KB)\n"
      ]
     },
     "metadata": {},
     "output_type": "display_data"
    },
    {
     "data": {
      "text/html": [
       "<pre style=\"white-space:pre;overflow-x:auto;line-height:normal;font-family:Menlo,'DejaVu Sans Mono',consolas,'Courier New',monospace\"><span style=\"font-weight: bold\">Model: \"critic_ppo\"</span>\n",
       "</pre>\n"
      ],
      "text/plain": [
       "\u001b[1mModel: \"critic_ppo\"\u001b[0m\n"
      ]
     },
     "metadata": {},
     "output_type": "display_data"
    },
    {
     "data": {
      "text/html": [
       "<pre style=\"white-space:pre;overflow-x:auto;line-height:normal;font-family:Menlo,'DejaVu Sans Mono',consolas,'Courier New',monospace\">┏━━━━━━━━━━━━━━━━━━━━━━━━━━━━━━━━━┳━━━━━━━━━━━━━━━━━━━━━━━━┳━━━━━━━━━━━━━━━┓\n",
       "┃<span style=\"font-weight: bold\"> Layer (type)                    </span>┃<span style=\"font-weight: bold\"> Output Shape           </span>┃<span style=\"font-weight: bold\">       Param # </span>┃\n",
       "┡━━━━━━━━━━━━━━━━━━━━━━━━━━━━━━━━━╇━━━━━━━━━━━━━━━━━━━━━━━━╇━━━━━━━━━━━━━━━┩\n",
       "│ sequential_1 (<span style=\"color: #0087ff; text-decoration-color: #0087ff\">Sequential</span>)       │ (<span style=\"color: #00d7ff; text-decoration-color: #00d7ff\">None</span>, <span style=\"color: #00af00; text-decoration-color: #00af00\">128</span>)            │        <span style=\"color: #00af00; text-decoration-color: #00af00\">44,096</span> │\n",
       "├─────────────────────────────────┼────────────────────────┼───────────────┤\n",
       "│ critic_ppo_dense4 (<span style=\"color: #0087ff; text-decoration-color: #0087ff\">Dense</span>)       │ (<span style=\"color: #00af00; text-decoration-color: #00af00\">1</span>, <span style=\"color: #00af00; text-decoration-color: #00af00\">1</span>)                 │           <span style=\"color: #00af00; text-decoration-color: #00af00\">129</span> │\n",
       "└─────────────────────────────────┴────────────────────────┴───────────────┘\n",
       "</pre>\n"
      ],
      "text/plain": [
       "┏━━━━━━━━━━━━━━━━━━━━━━━━━━━━━━━━━┳━━━━━━━━━━━━━━━━━━━━━━━━┳━━━━━━━━━━━━━━━┓\n",
       "┃\u001b[1m \u001b[0m\u001b[1mLayer (type)                   \u001b[0m\u001b[1m \u001b[0m┃\u001b[1m \u001b[0m\u001b[1mOutput Shape          \u001b[0m\u001b[1m \u001b[0m┃\u001b[1m \u001b[0m\u001b[1m      Param #\u001b[0m\u001b[1m \u001b[0m┃\n",
       "┡━━━━━━━━━━━━━━━━━━━━━━━━━━━━━━━━━╇━━━━━━━━━━━━━━━━━━━━━━━━╇━━━━━━━━━━━━━━━┩\n",
       "│ sequential_1 (\u001b[38;5;33mSequential\u001b[0m)       │ (\u001b[38;5;45mNone\u001b[0m, \u001b[38;5;34m128\u001b[0m)            │        \u001b[38;5;34m44,096\u001b[0m │\n",
       "├─────────────────────────────────┼────────────────────────┼───────────────┤\n",
       "│ critic_ppo_dense4 (\u001b[38;5;33mDense\u001b[0m)       │ (\u001b[38;5;34m1\u001b[0m, \u001b[38;5;34m1\u001b[0m)                 │           \u001b[38;5;34m129\u001b[0m │\n",
       "└─────────────────────────────────┴────────────────────────┴───────────────┘\n"
      ]
     },
     "metadata": {},
     "output_type": "display_data"
    },
    {
     "data": {
      "text/html": [
       "<pre style=\"white-space:pre;overflow-x:auto;line-height:normal;font-family:Menlo,'DejaVu Sans Mono',consolas,'Courier New',monospace\"><span style=\"font-weight: bold\"> Total params: </span><span style=\"color: #00af00; text-decoration-color: #00af00\">132,677</span> (518.27 KB)\n",
       "</pre>\n"
      ],
      "text/plain": [
       "\u001b[1m Total params: \u001b[0m\u001b[38;5;34m132,677\u001b[0m (518.27 KB)\n"
      ]
     },
     "metadata": {},
     "output_type": "display_data"
    },
    {
     "data": {
      "text/html": [
       "<pre style=\"white-space:pre;overflow-x:auto;line-height:normal;font-family:Menlo,'DejaVu Sans Mono',consolas,'Courier New',monospace\"><span style=\"font-weight: bold\"> Trainable params: </span><span style=\"color: #00af00; text-decoration-color: #00af00\">44,225</span> (172.75 KB)\n",
       "</pre>\n"
      ],
      "text/plain": [
       "\u001b[1m Trainable params: \u001b[0m\u001b[38;5;34m44,225\u001b[0m (172.75 KB)\n"
      ]
     },
     "metadata": {},
     "output_type": "display_data"
    },
    {
     "data": {
      "text/html": [
       "<pre style=\"white-space:pre;overflow-x:auto;line-height:normal;font-family:Menlo,'DejaVu Sans Mono',consolas,'Courier New',monospace\"><span style=\"font-weight: bold\"> Non-trainable params: </span><span style=\"color: #00af00; text-decoration-color: #00af00\">0</span> (0.00 B)\n",
       "</pre>\n"
      ],
      "text/plain": [
       "\u001b[1m Non-trainable params: \u001b[0m\u001b[38;5;34m0\u001b[0m (0.00 B)\n"
      ]
     },
     "metadata": {},
     "output_type": "display_data"
    },
    {
     "data": {
      "text/html": [
       "<pre style=\"white-space:pre;overflow-x:auto;line-height:normal;font-family:Menlo,'DejaVu Sans Mono',consolas,'Courier New',monospace\"><span style=\"font-weight: bold\"> Optimizer params: </span><span style=\"color: #00af00; text-decoration-color: #00af00\">88,452</span> (345.52 KB)\n",
       "</pre>\n"
      ],
      "text/plain": [
       "\u001b[1m Optimizer params: \u001b[0m\u001b[38;5;34m88,452\u001b[0m (345.52 KB)\n"
      ]
     },
     "metadata": {},
     "output_type": "display_data"
    }
   ],
   "source": [
    "\n",
    "tf.random.set_seed(seed)\n",
    "np.random.seed(seed)\n",
    "\n",
    "\n",
    "# Configurazione ed esecuzione\n",
    "#Lista di giochi a disposizione di Procgen:\n",
    "\"\"\" \n",
    "    bigfish, bossfight, caveflyer, chaser, climber\n",
    "    coinrun, dodgeball, fruitbot, heist, jumper\n",
    "    leaper, maze, miner, ninja, plumber, starpilot\n",
    "\"\"\"\n",
    "seed=42\n",
    "gameName=\"starpilot\" \n",
    "env = gym.make('procgen:procgen-'+gameName+'-v0',distribution_mode='easy',start_level=seed,rand_seed=seed, num_levels=100, use_backgrounds=False)\n",
    "recorder=Recorder(gameName)\n",
    "dataLogger=DataLogger(gameName)\n",
    "ppo=PPO(env,weightsPath=None,recorder=recorder,dataLogger=dataLogger,gameName=gameName)"
   ]
  },
  {
   "cell_type": "code",
   "execution_count": null,
   "metadata": {},
   "outputs": [
    {
     "name": "stderr",
     "output_type": "stream",
     "text": [
      "I0000 00:00:1736590599.029308    4480 cuda_dnn.cc:529] Loaded cuDNN version 90300\n"
     ]
    },
    {
     "name": "stdout",
     "output_type": "stream",
     "text": [
      "Reward rollout:  120.0\n",
      "Epoch: 0 | Rollout completed\n",
      "(4096, 64, 64, 3) (4096,) (4096,) (4096,) (4096,)\n",
      "Total loss:  0.23876259  Policy loss:  0.010055581  Value loss:  0.27191544  Entropy loss:  -0.04320842\n",
      "Total loss:  0.38402972  Policy loss:  0.36146238  Value loss:  0.070048325  Entropy loss:  -0.047480997\n",
      "Total loss:  0.29841045  Policy loss:  0.15115273  Value loss:  0.19225895  Entropy loss:  -0.045001242\n",
      "Total loss:  0.044923116  Policy loss:  -0.31054565  Value loss:  0.40284193  Entropy loss:  -0.047373157\n",
      "Total loss:  -0.015457515  Policy loss:  -0.2776327  Value loss:  0.3092817  Entropy loss:  -0.04710651\n",
      "Total loss:  0.3326792  Policy loss:  0.22298582  Value loss:  0.15629001  Entropy loss:  -0.046596613\n",
      "Total loss:  0.10983881  Policy loss:  -0.20110138  Value loss:  0.35514358  Entropy loss:  -0.044203382\n",
      "Total loss:  0.15579529  Policy loss:  -0.11609902  Value loss:  0.32013687  Entropy loss:  -0.048242558\n",
      "Total loss:  0.14259851  Policy loss:  -0.04689529  Value loss:  0.23772189  Entropy loss:  -0.048228078\n",
      "Total loss:  0.33964258  Policy loss:  0.2511983  Value loss:  0.1319545  Entropy loss:  -0.043510187\n",
      "Total loss:  0.1778263  Policy loss:  -0.06675802  Value loss:  0.2861281  Entropy loss:  -0.04154378\n",
      "Total loss:  0.2582156  Policy loss:  -0.0037153808  Value loss:  0.3050466  Entropy loss:  -0.043115616\n",
      "Total loss:  0.8815187  Policy loss:  0.9123997  Value loss:  2.0908885e-05  Entropy loss:  -0.030901937\n",
      "Early stopping at step 0 due to reaching max kl.\n",
      "Epoch: 0 | Loss: 0.25759872794151306\n",
      "pathActor: ./weights/starpilot/actor.keras\n",
      "pathCritic: ./weights/starpilot/critic.keras\n",
      "Model saved at epoch:  0\n",
      "Warning: early reset ignored\n",
      "Episode reward: 0.0\n",
      "Episode reward: 1.0\n",
      "Episode reward: 1.0\n",
      "Episode reward: 3.0\n",
      "Episode reward: 1.0\n",
      "Episode reward: 1.0\n",
      "Episode reward: 2.0\n",
      "Episode reward: 0.0\n",
      "Episode reward: 1.0\n",
      "Episode reward: 1.0\n",
      "Average Reward: 1.10\n",
      "Min Reward: 0.00\n",
      "Max Reward: 3.00\n",
      "Cumulative Reward: 11.00\n",
      "Reward rollout:  123.0\n",
      "Epoch: 1 | Rollout completed\n",
      "(4096, 64, 64, 3) (4096,) (4096,) (4096,) (4096,)\n",
      "Total loss:  0.05264687  Policy loss:  -0.28033707  Value loss:  0.3757327  Entropy loss:  -0.042748753\n",
      "Total loss:  0.033062298  Policy loss:  -0.19021748  Value loss:  0.2631809  Entropy loss:  -0.039901134\n",
      "Total loss:  0.41147256  Policy loss:  0.36602634  Value loss:  0.087252356  Entropy loss:  -0.04180614\n",
      "Total loss:  0.09394312  Policy loss:  -0.09674059  Value loss:  0.23330341  Entropy loss:  -0.04261971\n",
      "Total loss:  0.40585047  Policy loss:  0.34489942  Value loss:  0.10246705  Entropy loss:  -0.04151601\n",
      "Total loss:  0.30211845  Policy loss:  0.2280707  Value loss:  0.11164167  Entropy loss:  -0.037593927\n",
      "Total loss:  0.20375502  Policy loss:  -0.0076105897  Value loss:  0.2558911  Entropy loss:  -0.0445255\n",
      "Total loss:  -0.02274137  Policy loss:  -0.6079714  Value loss:  0.62554806  Entropy loss:  -0.040318064\n",
      "Total loss:  0.08422704  Policy loss:  -0.15161818  Value loss:  0.2753489  Entropy loss:  -0.039503675\n",
      "Total loss:  0.35799012  Policy loss:  0.26211828  Value loss:  0.13694865  Entropy loss:  -0.04107681\n",
      "Total loss:  0.25098518  Policy loss:  0.04254077  Value loss:  0.25058106  Entropy loss:  -0.042136643\n",
      "Total loss:  0.27521938  Policy loss:  0.11381397  Value loss:  0.2010777  Entropy loss:  -0.039672293\n",
      "Total loss:  0.82465744  Policy loss:  0.869054  Value loss:  8.8582136e-05  Entropy loss:  -0.044485163\n",
      "Early stopping at step 0 due to reaching max kl.\n",
      "Epoch: 1 | Loss: 0.2517835795879364\n",
      "Reward rollout:  137.0\n",
      "Epoch: 2 | Rollout completed\n",
      "(4096, 64, 64, 3) (4096,) (4096,) (4096,) (4096,)\n",
      "Total loss:  0.30837262  Policy loss:  0.09513061  Value loss:  0.2505055  Entropy loss:  -0.037263528\n",
      "Total loss:  0.22795758  Policy loss:  -0.18226302  Value loss:  0.45070922  Entropy loss:  -0.04048863\n",
      "Total loss:  0.36515278  Policy loss:  0.2849442  Value loss:  0.123557396  Entropy loss:  -0.043348826\n",
      "Total loss:  0.12236279  Policy loss:  -0.20733003  Value loss:  0.37409613  Entropy loss:  -0.044403296\n",
      "Total loss:  0.13610646  Policy loss:  -0.115801536  Value loss:  0.29705745  Entropy loss:  -0.045149446\n",
      "Total loss:  0.2558356  Policy loss:  0.09209032  Value loss:  0.20250885  Entropy loss:  -0.03876359\n",
      "Total loss:  0.3119284  Policy loss:  0.030479923  Value loss:  0.3216353  Entropy loss:  -0.040186834\n",
      "Total loss:  0.37869468  Policy loss:  0.16182545  Value loss:  0.25334457  Entropy loss:  -0.036475323\n",
      "Total loss:  0.2624737  Policy loss:  0.004880978  Value loss:  0.29804102  Entropy loss:  -0.040448293\n",
      "Total loss:  0.3309774  Policy loss:  0.14383718  Value loss:  0.22890905  Entropy loss:  -0.04176881\n",
      "Total loss:  0.22001669  Policy loss:  -0.10136898  Value loss:  0.35907322  Entropy loss:  -0.03768757\n",
      "Total loss:  0.09172102  Policy loss:  -0.22260605  Value loss:  0.35703614  Entropy loss:  -0.042709075\n",
      "Total loss:  0.8135937  Policy loss:  0.8601099  Value loss:  0.00016665549  Entropy loss:  -0.046682905\n",
      "Early stopping at step 0 due to reaching max kl.\n",
      "Epoch: 2 | Loss: 0.2942456603050232\n",
      "Reward rollout:  142.0\n",
      "Epoch: 3 | Rollout completed\n",
      "(4096, 64, 64, 3) (4096,) (4096,) (4096,) (4096,)\n",
      "Total loss:  0.33493435  Policy loss:  0.16466375  Value loss:  0.2069798  Entropy loss:  -0.036709193\n",
      "Total loss:  0.16401622  Policy loss:  -0.12565774  Value loss:  0.3330818  Entropy loss:  -0.043407865\n",
      "Total loss:  0.1946286  Policy loss:  -0.21761046  Value loss:  0.45330337  Entropy loss:  -0.0410643\n",
      "Total loss:  0.5652905  Policy loss:  0.5420213  Value loss:  0.06449981  Entropy loss:  -0.041230533\n",
      "Total loss:  0.56394285  Policy loss:  0.4443883  Value loss:  0.16218528  Entropy loss:  -0.042630706\n",
      "Total loss:  0.19047642  Policy loss:  -0.2016299  Value loss:  0.43651235  Entropy loss:  -0.04440602\n",
      "Total loss:  0.18045092  Policy loss:  -0.51107556  Value loss:  0.7296009  Entropy loss:  -0.03807444\n",
      "Total loss:  0.18136412  Policy loss:  -0.45605826  Value loss:  0.67763954  Entropy loss:  -0.040217157\n",
      "Total loss:  0.11139335  Policy loss:  -0.36154425  Value loss:  0.5120145  Entropy loss:  -0.039076906\n",
      "Total loss:  0.26338488  Policy loss:  0.10228796  Value loss:  0.20150548  Entropy loss:  -0.04040856\n",
      "Total loss:  0.4761721  Policy loss:  0.42842743  Value loss:  0.087282054  Entropy loss:  -0.03953737\n",
      "Total loss:  0.36555916  Policy loss:  0.22906035  Value loss:  0.17720348  Entropy loss:  -0.04070466\n",
      "Total loss:  0.7546997  Policy loss:  0.7948132  Value loss:  0.00026739866  Entropy loss:  -0.04038091\n",
      "Early stopping at step 0 due to reaching max kl.\n",
      "Epoch: 3 | Loss: 0.33433178067207336\n",
      "Reward rollout:  105.0\n",
      "Epoch: 4 | Rollout completed\n",
      "(4096, 64, 64, 3) (4096,) (4096,) (4096,) (4096,)\n",
      "Total loss:  0.23609465  Policy loss:  0.094083376  Value loss:  0.18091743  Entropy loss:  -0.03890615\n",
      "Total loss:  0.33083987  Policy loss:  0.2728037  Value loss:  0.098849386  Entropy loss:  -0.04081322\n",
      "Total loss:  0.27779588  Policy loss:  0.09478615  Value loss:  0.221274  Entropy loss:  -0.03826427\n",
      "Total loss:  0.29515862  Policy loss:  0.24704786  Value loss:  0.08939055  Entropy loss:  -0.041279785\n",
      "Total loss:  -0.25750977  Policy loss:  -0.7087092  Value loss:  0.4910007  Entropy loss:  -0.039801314\n",
      "Total loss:  0.10940218  Policy loss:  -0.08314811  Value loss:  0.23050079  Entropy loss:  -0.037950505\n",
      "Total loss:  0.30172795  Policy loss:  0.2283007  Value loss:  0.110294715  Entropy loss:  -0.036867462\n",
      "Total loss:  -0.25697145  Policy loss:  -0.7305236  Value loss:  0.5123175  Entropy loss:  -0.038765345\n",
      "Total loss:  0.27857256  Policy loss:  0.18786983  Value loss:  0.131323  Entropy loss:  -0.04062027\n",
      "Total loss:  0.21490021  Policy loss:  0.14505541  Value loss:  0.11241063  Entropy loss:  -0.042565834\n",
      "Total loss:  -0.14792392  Policy loss:  -0.43090364  Value loss:  0.32052153  Entropy loss:  -0.037541814\n",
      "Total loss:  0.6282308  Policy loss:  0.6502339  Value loss:  0.019965569  Entropy loss:  -0.04196868\n",
      "Total loss:  0.8381564  Policy loss:  0.8805063  Value loss:  7.219342e-05  Entropy loss:  -0.042422064\n",
      "Total loss:  0.2338075  Policy loss:  0.09170169  Value loss:  0.18091743  Entropy loss:  -0.038811628\n",
      "Total loss:  0.33014154  Policy loss:  0.27202603  Value loss:  0.098849386  Entropy loss:  -0.040733885\n",
      "Total loss:  0.26254654  Policy loss:  0.07959629  Value loss:  0.221274  Entropy loss:  -0.03832375\n",
      "Total loss:  0.28943336  Policy loss:  0.24169162  Value loss:  0.08939055  Entropy loss:  -0.041648813\n",
      "Total loss:  -0.26162392  Policy loss:  -0.7127197  Value loss:  0.4910007  Entropy loss:  -0.039904967\n",
      "Total loss:  0.10783233  Policy loss:  -0.08445679  Value loss:  0.23050079  Entropy loss:  -0.038211673\n",
      "Total loss:  0.29166174  Policy loss:  0.21849234  Value loss:  0.110294715  Entropy loss:  -0.037125316\n",
      "Total loss:  -0.25517407  Policy loss:  -0.7283201  Value loss:  0.5123175  Entropy loss:  -0.03917143\n",
      "Total loss:  0.27670276  Policy loss:  0.1862576  Value loss:  0.131323  Entropy loss:  -0.04087781\n",
      "Total loss:  0.21516523  Policy loss:  0.14562808  Value loss:  0.11241063  Entropy loss:  -0.04287348\n",
      "Total loss:  -0.14897682  Policy loss:  -0.43171328  Value loss:  0.32052153  Entropy loss:  -0.037785072\n",
      "Total loss:  0.6281463  Policy loss:  0.6508259  Value loss:  0.019965569  Entropy loss:  -0.042645205\n",
      "Total loss:  0.6878797  Policy loss:  0.73260605  Value loss:  7.219342e-05  Entropy loss:  -0.04479854\n",
      "Early stopping at step 1 due to reaching max kl.\n",
      "Epoch: 4 | Loss: 0.20442631840705872\n",
      "Reward rollout:  127.0\n",
      "Epoch: 5 | Rollout completed\n",
      "(4096, 64, 64, 3) (4096,) (4096,) (4096,) (4096,)\n",
      "Total loss:  0.3532946  Policy loss:  0.1944955  Value loss:  0.20026624  Entropy loss:  -0.041467123\n",
      "Total loss:  0.05698166  Policy loss:  -0.35066283  Value loss:  0.44049278  Entropy loss:  -0.03284829\n",
      "Total loss:  0.3535819  Policy loss:  0.2572967  Value loss:  0.13799006  Entropy loss:  -0.041704856\n",
      "Total loss:  0.018399235  Policy loss:  -0.40565795  Value loss:  0.46111748  Entropy loss:  -0.037060294\n",
      "Total loss:  0.32907626  Policy loss:  0.18443386  Value loss:  0.18154754  Entropy loss:  -0.03690514\n",
      "Total loss:  0.49344018  Policy loss:  0.46855965  Value loss:  0.06476463  Entropy loss:  -0.039884124\n",
      "Total loss:  0.39385527  Policy loss:  0.3098181  Value loss:  0.12641951  Entropy loss:  -0.042382333\n",
      "Total loss:  0.0642862  Policy loss:  -0.21800053  Value loss:  0.3224542  Entropy loss:  -0.04016748\n",
      "Total loss:  0.031746585  Policy loss:  -0.702294  Value loss:  0.7676493  Entropy loss:  -0.033608716\n",
      "Total loss:  0.10993373  Policy loss:  -0.06634559  Value loss:  0.21373463  Entropy loss:  -0.037455313\n",
      "Total loss:  0.21318075  Policy loss:  0.005184811  Value loss:  0.24591002  Entropy loss:  -0.03791406\n",
      "Total loss:  0.42193502  Policy loss:  0.2713627  Value loss:  0.18454628  Entropy loss:  -0.033973936\n",
      "Total loss:  0.88780016  Policy loss:  0.9255899  Value loss:  3.8587506e-05  Entropy loss:  -0.037828322\n",
      "Early stopping at step 0 due to reaching max kl.\n",
      "Epoch: 5 | Loss: 0.28673166036605835\n",
      "pathActor: ./weights/starpilot/actor.keras\n",
      "pathCritic: ./weights/starpilot/critic.keras\n",
      "Model saved at epoch:  5\n",
      "Warning: early reset ignored\n",
      "Episode reward: 0.0\n",
      "Episode reward: 0.0\n",
      "Episode reward: 6.0\n",
      "Episode reward: 0.0\n",
      "Episode reward: 2.0\n",
      "Episode reward: 3.0\n",
      "Episode reward: 4.0\n",
      "Episode reward: 1.0\n",
      "Episode reward: 1.0\n",
      "Episode reward: 6.0\n",
      "Average Reward: 2.30\n",
      "Min Reward: 0.00\n",
      "Max Reward: 6.00\n",
      "Cumulative Reward: 23.00\n",
      "Reward rollout:  140.0\n",
      "Epoch: 6 | Rollout completed\n",
      "(4096, 64, 64, 3) (4096,) (4096,) (4096,) (4096,)\n",
      "Total loss:  0.02309804  Policy loss:  -0.6104055  Value loss:  0.67083436  Entropy loss:  -0.037330817\n",
      "Total loss:  0.24396148  Policy loss:  -0.40027487  Value loss:  0.6819082  Entropy loss:  -0.037671827\n",
      "Total loss:  0.45484066  Policy loss:  0.40971947  Value loss:  0.08979553  Entropy loss:  -0.044674348\n",
      "Total loss:  0.09145349  Policy loss:  -0.2549368  Value loss:  0.3881494  Entropy loss:  -0.041759104\n",
      "Total loss:  0.44033092  Policy loss:  0.2407393  Value loss:  0.24064445  Entropy loss:  -0.04105283\n",
      "Total loss:  0.41231537  Policy loss:  0.24982364  Value loss:  0.20111619  Entropy loss:  -0.03862445\n",
      "Total loss:  0.02290257  Policy loss:  -0.69146615  Value loss:  0.7507862  Entropy loss:  -0.036417462\n",
      "Total loss:  0.5513821  Policy loss:  0.53963566  Value loss:  0.048212767  Entropy loss:  -0.036466304\n",
      "Total loss:  0.07804245  Policy loss:  -0.15719202  Value loss:  0.2739918  Entropy loss:  -0.03875732\n",
      "Total loss:  0.32317618  Policy loss:  0.06716396  Value loss:  0.29596862  Entropy loss:  -0.03995642\n",
      "Total loss:  0.36175427  Policy loss:  0.22778682  Value loss:  0.17373861  Entropy loss:  -0.039771166\n",
      "Total loss:  0.36323738  Policy loss:  0.28122473  Value loss:  0.120411426  Entropy loss:  -0.038398758\n",
      "Total loss:  0.6199314  Policy loss:  0.5857702  Value loss:  0.062493347  Entropy loss:  -0.028332096\n",
      "Early stopping at step 0 due to reaching max kl.\n",
      "Epoch: 6 | Loss: 0.3066481947898865\n",
      "Reward rollout:  130.0\n",
      "Epoch: 7 | Rollout completed\n",
      "(4096, 64, 64, 3) (4096,) (4096,) (4096,) (4096,)\n",
      "Total loss:  0.3153046  Policy loss:  0.18180312  Value loss:  0.17107175  Entropy loss:  -0.03757027\n",
      "Total loss:  0.12463527  Policy loss:  -0.24469127  Value loss:  0.40889013  Entropy loss:  -0.03956359\n",
      "Total loss:  0.10686998  Policy loss:  -0.16577952  Value loss:  0.3124804  Entropy loss:  -0.03983089\n",
      "Total loss:  0.27940515  Policy loss:  0.14922151  Value loss:  0.17040442  Entropy loss:  -0.040220756\n",
      "Total loss:  0.3061051  Policy loss:  -0.08913638  Value loss:  0.43058375  Entropy loss:  -0.035342257\n",
      "Total loss:  0.21939264  Policy loss:  -0.019447355  Value loss:  0.27499756  Entropy loss:  -0.036157567\n",
      "Total loss:  0.5132842  Policy loss:  0.437819  Value loss:  0.112379245  Entropy loss:  -0.03691407\n",
      "Total loss:  0.16520745  Policy loss:  -0.02439905  Value loss:  0.22574598  Entropy loss:  -0.03613948\n",
      "Total loss:  0.4088233  Policy loss:  -0.051671024  Value loss:  0.49886534  Entropy loss:  -0.038371008\n",
      "Total loss:  0.1281601  Policy loss:  -0.21250647  Value loss:  0.380735  Entropy loss:  -0.04006843\n",
      "Total loss:  0.23670116  Policy loss:  0.0912547  Value loss:  0.18236984  Entropy loss:  -0.036923375\n",
      "Total loss:  0.17839517  Policy loss:  0.026254347  Value loss:  0.18598875  Entropy loss:  -0.033847928\n",
      "Total loss:  0.8569704  Policy loss:  0.900839  Value loss:  0.00040050282  Entropy loss:  -0.044269014\n",
      "Early stopping at step 0 due to reaching max kl.\n",
      "Epoch: 7 | Loss: 0.2953273057937622\n",
      "Reward rollout:  143.0\n",
      "Epoch: 8 | Rollout completed\n",
      "(4096, 64, 64, 3) (4096,) (4096,) (4096,) (4096,)\n",
      "Total loss:  0.5130939  Policy loss:  0.46370748  Value loss:  0.08690656  Entropy loss:  -0.037520155\n",
      "Total loss:  0.22580636  Policy loss:  0.022943256  Value loss:  0.23825167  Entropy loss:  -0.035388567\n",
      "Total loss:  0.15708727  Policy loss:  -0.18312828  Value loss:  0.37609267  Entropy loss:  -0.03587713\n",
      "Total loss:  0.21834978  Policy loss:  -0.11774353  Value loss:  0.37399706  Entropy loss:  -0.037903752\n",
      "Total loss:  -0.08378048  Policy loss:  -0.58878237  Value loss:  0.5407295  Entropy loss:  -0.035727635\n",
      "Total loss:  0.28865868  Policy loss:  0.05847084  Value loss:  0.26981577  Entropy loss:  -0.039627936\n",
      "Total loss:  0.46975058  Policy loss:  0.36080462  Value loss:  0.14831313  Entropy loss:  -0.039367124\n",
      "Total loss:  0.25140274  Policy loss:  0.018829837  Value loss:  0.27021334  Entropy loss:  -0.037640467\n",
      "Total loss:  -0.14056122  Policy loss:  -0.7507424  Value loss:  0.650072  Entropy loss:  -0.039890833\n",
      "Total loss:  0.512589  Policy loss:  0.37933883  Value loss:  0.17511047  Entropy loss:  -0.041860316\n",
      "Total loss:  0.24191903  Policy loss:  -0.06411734  Value loss:  0.34429964  Entropy loss:  -0.03826328\n",
      "Total loss:  0.45399076  Policy loss:  0.3433786  Value loss:  0.1474295  Entropy loss:  -0.036817357\n",
      "Total loss:  0.9773545  Policy loss:  1.0054884  Value loss:  0.00029059983  Entropy loss:  -0.028424475\n",
      "Early stopping at step 0 due to reaching max kl.\n",
      "Epoch: 8 | Loss: 0.3142816126346588\n",
      "Reward rollout:  102.0\n",
      "Epoch: 9 | Rollout completed\n",
      "(4096, 64, 64, 3) (4096,) (4096,) (4096,) (4096,)\n",
      "Total loss:  0.47307247  Policy loss:  0.48168913  Value loss:  0.029878305  Entropy loss:  -0.038494937\n",
      "Total loss:  0.26052982  Policy loss:  0.21086536  Value loss:  0.09091971  Entropy loss:  -0.041255258\n",
      "Total loss:  0.623857  Policy loss:  0.64926034  Value loss:  0.012119184  Entropy loss:  -0.037522506\n",
      "Total loss:  0.08335753  Policy loss:  0.018910842  Value loss:  0.103771366  Entropy loss:  -0.03932468\n",
      "Total loss:  0.1374467  Policy loss:  -0.02330582  Value loss:  0.19336438  Entropy loss:  -0.032611866\n",
      "Total loss:  0.24713778  Policy loss:  0.1926658  Value loss:  0.09127728  Entropy loss:  -0.036805302\n",
      "Total loss:  0.47762802  Policy loss:  0.47828445  Value loss:  0.03842057  Entropy loss:  -0.039077003\n",
      "Total loss:  0.28358012  Policy loss:  0.12565738  Value loss:  0.18808028  Entropy loss:  -0.030157534\n",
      "Total loss:  -0.3125728  Policy loss:  -0.7178048  Value loss:  0.4455171  Entropy loss:  -0.0402851\n",
      "Total loss:  -0.08646679  Policy loss:  -0.39615446  Value loss:  0.3431434  Entropy loss:  -0.033455733\n",
      "Total loss:  -0.16805951  Policy loss:  -0.55640835  Value loss:  0.42412007  Entropy loss:  -0.035771232\n",
      "Total loss:  -0.18794456  Policy loss:  -0.43632168  Value loss:  0.28709075  Entropy loss:  -0.03871364\n",
      "Total loss:  0.6501004  Policy loss:  0.6970717  Value loss:  9.699994e-05  Entropy loss:  -0.04706826\n",
      "Early stopping at step 0 due to reaching max kl.\n",
      "Epoch: 9 | Loss: 0.1908973902463913\n",
      "Reward rollout:  112.0\n",
      "Epoch: 10 | Rollout completed\n",
      "(4096, 64, 64, 3) (4096,) (4096,) (4096,) (4096,)\n",
      "Total loss:  0.16662204  Policy loss:  -0.06328593  Value loss:  0.26710805  Entropy loss:  -0.03720007\n",
      "Total loss:  0.23238587  Policy loss:  0.13592464  Value loss:  0.13688439  Entropy loss:  -0.040423155\n",
      "Total loss:  0.25800636  Policy loss:  0.1075077  Value loss:  0.18546562  Entropy loss:  -0.034966942\n",
      "Total loss:  0.015065599  Policy loss:  -0.18551469  Value loss:  0.23841272  Entropy loss:  -0.037832435\n",
      "Total loss:  0.24379608  Policy loss:  0.13280845  Value loss:  0.14779794  Entropy loss:  -0.036810305\n",
      "Total loss:  0.2104846  Policy loss:  -0.19999324  Value loss:  0.44814348  Entropy loss:  -0.037665647\n",
      "Total loss:  0.5659  Policy loss:  0.5809779  Value loss:  0.024478342  Entropy loss:  -0.039556205\n",
      "Total loss:  0.19566005  Policy loss:  0.122886725  Value loss:  0.11218925  Entropy loss:  -0.03941592\n",
      "Total loss:  0.26483074  Policy loss:  0.17698568  Value loss:  0.12380752  Entropy loss:  -0.03596246\n",
      "Total loss:  -0.013622407  Policy loss:  -0.2483422  Value loss:  0.27431726  Entropy loss:  -0.03959747\n",
      "Total loss:  0.22016838  Policy loss:  0.15147838  Value loss:  0.10916658  Entropy loss:  -0.04047659\n",
      "Total loss:  -0.055148628  Policy loss:  -0.61381185  Value loss:  0.6013799  Entropy loss:  -0.04271665\n",
      "Total loss:  0.6857109  Policy loss:  0.7321425  Value loss:  2.050774e-05  Entropy loss:  -0.0464521\n",
      "Early stopping at step 0 due to reaching max kl.\n",
      "Epoch: 10 | Loss: 0.2299892008304596\n",
      "pathActor: ./weights/starpilot/actor.keras\n",
      "pathCritic: ./weights/starpilot/critic.keras\n",
      "Model saved at epoch:  10\n",
      "Warning: early reset ignored\n",
      "Episode reward: 1.0\n",
      "Episode reward: 0.0\n",
      "Episode reward: 0.0\n",
      "Episode reward: 1.0\n",
      "Episode reward: 0.0\n",
      "Episode reward: 2.0\n",
      "Episode reward: 1.0\n",
      "Episode reward: 3.0\n",
      "Episode reward: 2.0\n",
      "Episode reward: 0.0\n",
      "Average Reward: 1.00\n",
      "Min Reward: 0.00\n",
      "Max Reward: 3.00\n",
      "Cumulative Reward: 10.00\n",
      "Reward rollout:  140.0\n",
      "Epoch: 11 | Rollout completed\n",
      "(4096, 64, 64, 3) (4096,) (4096,) (4096,) (4096,)\n",
      "Total loss:  0.25974506  Policy loss:  -0.14205647  Value loss:  0.43678334  Entropy loss:  -0.03498182\n",
      "Total loss:  0.35127333  Policy loss:  0.16844535  Value loss:  0.22367942  Entropy loss:  -0.04085144\n",
      "Total loss:  0.3715148  Policy loss:  0.16663264  Value loss:  0.24165903  Entropy loss:  -0.036776863\n",
      "Total loss:  0.47243434  Policy loss:  0.43130785  Value loss:  0.08381021  Entropy loss:  -0.042683724\n",
      "Total loss:  0.35953602  Policy loss:  0.21973379  Value loss:  0.17713727  Entropy loss:  -0.037335042\n",
      "Total loss:  0.071336284  Policy loss:  -0.66464245  Value loss:  0.7778569  Entropy loss:  -0.041878153\n",
      "Total loss:  0.35558346  Policy loss:  0.23855782  Value loss:  0.15817346  Entropy loss:  -0.0411478\n",
      "Total loss:  0.13032296  Policy loss:  -0.14905594  Value loss:  0.3164357  Entropy loss:  -0.03705678\n",
      "Total loss:  -0.04019907  Policy loss:  -0.6148408  Value loss:  0.60802025  Entropy loss:  -0.03337851\n",
      "Total loss:  0.16858366  Policy loss:  -0.10446527  Value loss:  0.31464687  Entropy loss:  -0.04159793\n",
      "Total loss:  0.6395229  Policy loss:  0.6472892  Value loss:  0.033620078  Entropy loss:  -0.04138638\n",
      "Total loss:  0.14726642  Policy loss:  -0.24584264  Value loss:  0.4352102  Entropy loss:  -0.04210115\n",
      "Total loss:  0.6948223  Policy loss:  0.7295028  Value loss:  0.00012072887  Entropy loss:  -0.03480118\n",
      "Early stopping at step 0 due to reaching max kl.\n",
      "Epoch: 11 | Loss: 0.30628788471221924\n",
      "Reward rollout:  111.0\n",
      "Epoch: 12 | Rollout completed\n",
      "(4096, 64, 64, 3) (4096,) (4096,) (4096,) (4096,)\n",
      "Total loss:  0.10623987  Policy loss:  -0.18413739  Value loss:  0.32465956  Entropy loss:  -0.034282293\n",
      "Total loss:  0.16051169  Policy loss:  -0.015532491  Value loss:  0.21451773  Entropy loss:  -0.038473543\n",
      "Total loss:  -0.17040353  Policy loss:  -0.54964626  Value loss:  0.42231333  Entropy loss:  -0.043070603\n",
      "Total loss:  0.38607636  Policy loss:  0.34864  Value loss:  0.07801932  Entropy loss:  -0.040582944\n",
      "Total loss:  0.29966605  Policy loss:  0.057553053  Value loss:  0.27810588  Entropy loss:  -0.03599289\n",
      "Total loss:  0.34799823  Policy loss:  0.217778  Value loss:  0.1677386  Entropy loss:  -0.037518356\n",
      "Total loss:  0.17358084  Policy loss:  0.0022471475  Value loss:  0.21002218  Entropy loss:  -0.0386885\n",
      "Total loss:  -0.035792105  Policy loss:  -0.31105623  Value loss:  0.31418708  Entropy loss:  -0.038922958\n",
      "Total loss:  0.18004346  Policy loss:  0.04355714  Value loss:  0.17724349  Entropy loss:  -0.040757164\n",
      "Total loss:  0.13532603  Policy loss:  0.035629306  Value loss:  0.13910897  Entropy loss:  -0.039412245\n",
      "Total loss:  0.4001908  Policy loss:  0.35975146  Value loss:  0.080395095  Entropy loss:  -0.039955772\n",
      "Total loss:  0.07197367  Policy loss:  -0.047637984  Value loss:  0.16087008  Entropy loss:  -0.041258425\n",
      "Total loss:  0.7582609  Policy loss:  0.7953366  Value loss:  0.00014851181  Entropy loss:  -0.03722421\n",
      "Early stopping at step 0 due to reaching max kl.\n",
      "Epoch: 12 | Loss: 0.21643632650375366\n",
      "Reward rollout:  91.0\n",
      "Epoch: 13 | Rollout completed\n",
      "(4096, 64, 64, 3) (4096,) (4096,) (4096,) (4096,)\n",
      "Total loss:  0.0954265  Policy loss:  -0.02467127  Value loss:  0.16046223  Entropy loss:  -0.04036446\n",
      "Total loss:  0.25424486  Policy loss:  0.19294369  Value loss:  0.10388991  Entropy loss:  -0.04258875\n",
      "Total loss:  0.16265486  Policy loss:  0.0578656  Value loss:  0.14951582  Entropy loss:  -0.04472656\n",
      "Total loss:  0.005453896  Policy loss:  -0.14782807  Value loss:  0.19673161  Entropy loss:  -0.043449644\n",
      "Total loss:  -0.20864151  Policy loss:  -0.37468407  Value loss:  0.208883  Entropy loss:  -0.042840447\n",
      "Total loss:  -0.06074064  Policy loss:  -0.25335145  Value loss:  0.23315  Entropy loss:  -0.040539194\n",
      "Total loss:  0.022307657  Policy loss:  -0.06081105  Value loss:  0.12535022  Entropy loss:  -0.042231515\n",
      "Total loss:  0.052359004  Policy loss:  -0.046467204  Value loss:  0.1338532  Entropy loss:  -0.035026994\n",
      "Total loss:  0.32746354  Policy loss:  0.3056224  Value loss:  0.06289307  Entropy loss:  -0.041051935\n",
      "Total loss:  0.45630294  Policy loss:  0.44975555  Value loss:  0.044861145  Entropy loss:  -0.038313754\n",
      "Total loss:  -0.21917751  Policy loss:  -0.3786164  Value loss:  0.20314167  Entropy loss:  -0.04370279\n",
      "Total loss:  0.32000694  Policy loss:  0.23640335  Value loss:  0.12356683  Entropy loss:  -0.039963234\n",
      "Total loss:  0.66091454  Policy loss:  0.6904085  Value loss:  6.6675843e-06  Entropy loss:  -0.029500654\n",
      "Early stopping at step 0 due to reaching max kl.\n",
      "Epoch: 13 | Loss: 0.14373654127120972\n",
      "Reward rollout:  137.0\n",
      "Epoch: 14 | Rollout completed\n",
      "(4096, 64, 64, 3) (4096,) (4096,) (4096,) (4096,)\n",
      "Total loss:  0.25719774  Policy loss:  -0.05111239  Value loss:  0.35036305  Entropy loss:  -0.042052917\n",
      "Total loss:  0.16372764  Policy loss:  -0.09512989  Value loss:  0.30000582  Entropy loss:  -0.04114829\n",
      "Total loss:  0.32760963  Policy loss:  0.1525806  Value loss:  0.21313651  Entropy loss:  -0.03810749\n",
      "Total loss:  0.15089996  Policy loss:  -0.059412617  Value loss:  0.25302118  Entropy loss:  -0.04270861\n",
      "Total loss:  0.02123966  Policy loss:  -0.54243183  Value loss:  0.60183686  Entropy loss:  -0.03816537\n",
      "Total loss:  0.42390457  Policy loss:  0.31921712  Value loss:  0.14422037  Entropy loss:  -0.039532937\n",
      "Total loss:  0.095495835  Policy loss:  -0.2959805  Value loss:  0.4299735  Entropy loss:  -0.03849717\n",
      "Total loss:  0.18010409  Policy loss:  0.022173153  Value loss:  0.2008345  Entropy loss:  -0.042903554\n",
      "Total loss:  0.2755637  Policy loss:  0.106164046  Value loss:  0.20777698  Entropy loss:  -0.03837735\n",
      "Total loss:  0.37117183  Policy loss:  0.22847584  Value loss:  0.17875597  Entropy loss:  -0.036059983\n",
      "Total loss:  0.21648836  Policy loss:  -0.09776906  Value loss:  0.35861698  Entropy loss:  -0.04435956\n",
      "Total loss:  0.36734083  Policy loss:  0.23149404  Value loss:  0.1764102  Entropy loss:  -0.0405634\n",
      "Total loss:  0.98560244  Policy loss:  1.0270085  Value loss:  0.00023955747  Entropy loss:  -0.04164572\n",
      "Early stopping at step 0 due to reaching max kl.\n",
      "Epoch: 14 | Loss: 0.2951035797595978\n",
      "Reward rollout:  123.0\n",
      "Epoch: 15 | Rollout completed\n",
      "(4096, 64, 64, 3) (4096,) (4096,) (4096,) (4096,)\n",
      "Total loss:  0.062203553  Policy loss:  -0.1812638  Value loss:  0.28616822  Entropy loss:  -0.04270086\n",
      "Total loss:  0.4589795  Policy loss:  0.42695707  Value loss:  0.07471422  Entropy loss:  -0.042691838\n",
      "Total loss:  0.1657018  Policy loss:  0.007338798  Value loss:  0.2007872  Entropy loss:  -0.042424183\n",
      "Total loss:  -0.09146595  Policy loss:  -0.5881642  Value loss:  0.53769445  Entropy loss:  -0.040996198\n",
      "Total loss:  0.20441675  Policy loss:  0.09467254  Value loss:  0.15341948  Entropy loss:  -0.04367527\n",
      "Total loss:  0.1030592  Policy loss:  -0.03919611  Value loss:  0.18434002  Entropy loss:  -0.042084698\n",
      "Total loss:  -0.027354166  Policy loss:  -0.65676147  Value loss:  0.6685212  Entropy loss:  -0.039113924\n",
      "Total loss:  0.41483366  Policy loss:  0.34974954  Value loss:  0.10797313  Entropy loss:  -0.042888988\n",
      "Total loss:  0.14432186  Policy loss:  -0.03503791  Value loss:  0.22353786  Entropy loss:  -0.04417809\n",
      "Total loss:  0.22851798  Policy loss:  0.053428147  Value loss:  0.20948279  Entropy loss:  -0.034392953\n",
      "Total loss:  0.5125171  Policy loss:  0.4199259  Value loss:  0.13332874  Entropy loss:  -0.040737506\n",
      "Total loss:  0.3768677  Policy loss:  0.23336421  Value loss:  0.18495516  Entropy loss:  -0.04145165\n",
      "Total loss:  0.89535517  Policy loss:  0.941449  Value loss:  0.00036082792  Entropy loss:  -0.046454657\n",
      "Early stopping at step 0 due to reaching max kl.\n",
      "Epoch: 15 | Loss: 0.2652272582054138\n",
      "pathActor: ./weights/starpilot/actor.keras\n",
      "pathCritic: ./weights/starpilot/critic.keras\n",
      "Model saved at epoch:  15\n",
      "Warning: early reset ignored\n",
      "Episode reward: 2.0\n",
      "Episode reward: 0.0\n",
      "Episode reward: 1.0\n",
      "Episode reward: 0.0\n",
      "Episode reward: 1.0\n",
      "Episode reward: 2.0\n",
      "Episode reward: 0.0\n",
      "Episode reward: 6.0\n",
      "Episode reward: 0.0\n",
      "Episode reward: 1.0\n",
      "Average Reward: 1.30\n",
      "Min Reward: 0.00\n",
      "Max Reward: 6.00\n",
      "Cumulative Reward: 13.00\n",
      "Reward rollout:  129.0\n",
      "Epoch: 16 | Rollout completed\n",
      "(4096, 64, 64, 3) (4096,) (4096,) (4096,) (4096,)\n",
      "Total loss:  0.41314256  Policy loss:  0.33915845  Value loss:  0.111102946  Entropy loss:  -0.037118815\n",
      "Total loss:  0.527263  Policy loss:  0.5232068  Value loss:  0.046998255  Entropy loss:  -0.04294206\n",
      "Total loss:  0.37851685  Policy loss:  0.21728083  Value loss:  0.19896947  Entropy loss:  -0.03773345\n",
      "Total loss:  0.10178375  Policy loss:  -0.22258338  Value loss:  0.3617048  Entropy loss:  -0.03733766\n",
      "Total loss:  0.3509298  Policy loss:  0.2472063  Value loss:  0.14467564  Entropy loss:  -0.04095215\n",
      "Total loss:  0.064460196  Policy loss:  -0.24026324  Value loss:  0.34485275  Entropy loss:  -0.04012931\n",
      "Total loss:  0.3485934  Policy loss:  0.1813958  Value loss:  0.20882772  Entropy loss:  -0.0416301\n",
      "Total loss:  0.33263344  Policy loss:  0.13605447  Value loss:  0.2362777  Entropy loss:  -0.039698727\n",
      "Total loss:  0.00041904673  Policy loss:  -0.61939454  Value loss:  0.6603827  Entropy loss:  -0.0405691\n",
      "Total loss:  -0.021450676  Policy loss:  -0.4167195  Value loss:  0.43705952  Entropy loss:  -0.0417907\n",
      "Total loss:  0.38649884  Policy loss:  0.09464406  Value loss:  0.32845202  Entropy loss:  -0.03659726\n",
      "Total loss:  0.05317593  Policy loss:  -0.22062607  Value loss:  0.31377837  Entropy loss:  -0.03997637\n",
      "Total loss:  0.7147434  Policy loss:  0.7618148  Value loss:  0.0001914321  Entropy loss:  -0.04726284\n",
      "Early stopping at step 0 due to reaching max kl.\n",
      "Epoch: 16 | Loss: 0.28082382678985596\n",
      "Reward rollout:  137.0\n",
      "Epoch: 17 | Rollout completed\n",
      "(4096, 64, 64, 3) (4096,) (4096,) (4096,) (4096,)\n",
      "Total loss:  0.44131362  Policy loss:  0.37177864  Value loss:  0.11251848  Entropy loss:  -0.04298349\n",
      "Total loss:  0.27402386  Policy loss:  0.09872882  Value loss:  0.21674308  Entropy loss:  -0.041448034\n",
      "Total loss:  0.3009951  Policy loss:  0.049568523  Value loss:  0.2832887  Entropy loss:  -0.03186211\n",
      "Total loss:  0.40797278  Policy loss:  0.18176924  Value loss:  0.26396072  Entropy loss:  -0.037757196\n",
      "Total loss:  0.14026348  Policy loss:  -0.11533481  Value loss:  0.29603374  Entropy loss:  -0.040435452\n",
      "Total loss:  0.3844503  Policy loss:  0.3347365  Value loss:  0.09184103  Entropy loss:  -0.042127218\n",
      "Total loss:  0.17273603  Policy loss:  -0.027693903  Value loss:  0.23809762  Entropy loss:  -0.037667688\n",
      "Total loss:  0.23233168  Policy loss:  0.00053038273  Value loss:  0.27284265  Entropy loss:  -0.041041363\n",
      "Total loss:  0.43226865  Policy loss:  0.34484145  Value loss:  0.1282969  Entropy loss:  -0.040869683\n",
      "Total loss:  0.21982874  Policy loss:  -0.35645962  Value loss:  0.61680585  Entropy loss:  -0.040517494\n",
      "Total loss:  0.0979539  Policy loss:  -0.5433157  Value loss:  0.6773975  Entropy loss:  -0.03612788\n",
      "Total loss:  0.12796192  Policy loss:  -0.33129033  Value loss:  0.49541855  Entropy loss:  -0.03616629\n",
      "Total loss:  0.99237424  Policy loss:  1.0391053  Value loss:  9.264989e-05  Entropy loss:  -0.04682367\n",
      "Total loss:  0.44049442  Policy loss:  0.37073308  Value loss:  0.11251848  Entropy loss:  -0.042757154\n",
      "Total loss:  0.26562065  Policy loss:  0.08967102  Value loss:  0.21674308  Entropy loss:  -0.04079344\n",
      "Total loss:  0.2978267  Policy loss:  0.046094913  Value loss:  0.2832887  Entropy loss:  -0.031556893\n",
      "Total loss:  0.40008706  Policy loss:  0.17243855  Value loss:  0.26396072  Entropy loss:  -0.036312234\n",
      "Total loss:  0.13331164  Policy loss:  -0.12299224  Value loss:  0.29603374  Entropy loss:  -0.03972985\n",
      "Total loss:  0.3868075  Policy loss:  0.33664638  Value loss:  0.09184103  Entropy loss:  -0.041679908\n",
      "Total loss:  0.16696528  Policy loss:  -0.034191206  Value loss:  0.23809762  Entropy loss:  -0.036941133\n",
      "Total loss:  0.24065408  Policy loss:  0.008114588  Value loss:  0.27284265  Entropy loss:  -0.04030315\n",
      "Total loss:  0.43741506  Policy loss:  0.34937203  Value loss:  0.1282969  Entropy loss:  -0.04025387\n",
      "Total loss:  0.20290688  Policy loss:  -0.3741471  Value loss:  0.61680585  Entropy loss:  -0.03975189\n",
      "Total loss:  0.061667487  Policy loss:  -0.58141947  Value loss:  0.6773975  Entropy loss:  -0.034310535\n",
      "Total loss:  0.12610835  Policy loss:  -0.3342457  Value loss:  0.49541855  Entropy loss:  -0.035064496\n",
      "Total loss:  0.8341403  Policy loss:  0.8790134  Value loss:  9.264989e-05  Entropy loss:  -0.04496573\n",
      "Early stopping at step 1 due to reaching max kl.\n",
      "Epoch: 17 | Loss: 0.30723118782043457\n",
      "Reward rollout:  115.0\n",
      "Epoch: 18 | Rollout completed\n",
      "(4096, 64, 64, 3) (4096,) (4096,) (4096,) (4096,)\n",
      "Total loss:  0.08250451  Policy loss:  -0.13474056  Value loss:  0.26055902  Entropy loss:  -0.043313954\n",
      "Total loss:  -0.0033200048  Policy loss:  -0.22907515  Value loss:  0.26520008  Entropy loss:  -0.039444935\n",
      "Total loss:  0.15688038  Policy loss:  -0.35497102  Value loss:  0.5493508  Entropy loss:  -0.03749939\n",
      "Total loss:  0.14532879  Policy loss:  -0.030944053  Value loss:  0.21479301  Entropy loss:  -0.038520165\n",
      "Total loss:  0.24611022  Policy loss:  0.06535869  Value loss:  0.21613106  Entropy loss:  -0.03537954\n",
      "Total loss:  0.26664627  Policy loss:  0.2206536  Value loss:  0.091214694  Entropy loss:  -0.045222018\n",
      "Total loss:  0.36954165  Policy loss:  0.3067729  Value loss:  0.100069374  Entropy loss:  -0.037300613\n",
      "Total loss:  0.06809574  Policy loss:  -0.14078929  Value loss:  0.24576886  Entropy loss:  -0.036883835\n",
      "Total loss:  0.51177216  Policy loss:  0.51682794  Value loss:  0.037035003  Entropy loss:  -0.042090744\n",
      "Total loss:  0.14499332  Policy loss:  -0.056918528  Value loss:  0.23913874  Entropy loss:  -0.03722689\n",
      "Total loss:  0.15686923  Policy loss:  -0.04871377  Value loss:  0.24538079  Entropy loss:  -0.03979778\n",
      "Total loss:  0.18073465  Policy loss:  -0.12647621  Value loss:  0.3479395  Entropy loss:  -0.040728625\n",
      "Total loss:  0.87889934  Policy loss:  0.9219312  Value loss:  0.00013625756  Entropy loss:  -0.043168098\n",
      "Early stopping at step 0 due to reaching max kl.\n",
      "Epoch: 18 | Loss: 0.2465427815914154\n",
      "Reward rollout:  125.0\n",
      "Epoch: 19 | Rollout completed\n",
      "(4096, 64, 64, 3) (4096,) (4096,) (4096,) (4096,)\n",
      "Total loss:  0.7092162  Policy loss:  0.71746236  Value loss:  0.031459264  Entropy loss:  -0.039705474\n",
      "Total loss:  0.50528926  Policy loss:  0.47645193  Value loss:  0.068660825  Entropy loss:  -0.03982348\n",
      "Total loss:  0.2747454  Policy loss:  0.08047304  Value loss:  0.23278344  Entropy loss:  -0.03851106\n",
      "Total loss:  0.34674627  Policy loss:  0.28235322  Value loss:  0.105399534  Entropy loss:  -0.04100649\n",
      "Total loss:  -0.16728023  Policy loss:  -0.9177228  Value loss:  0.7914555  Entropy loss:  -0.041012913\n",
      "Total loss:  0.15557353  Policy loss:  -0.12179082  Value loss:  0.32007343  Entropy loss:  -0.04270907\n",
      "Total loss:  0.0708496  Policy loss:  -0.17631407  Value loss:  0.28700253  Entropy loss:  -0.03983887\n",
      "Total loss:  0.33864754  Policy loss:  0.23840226  Value loss:  0.14234792  Entropy loss:  -0.04210264\n",
      "Total loss:  0.18030472  Policy loss:  -0.032887053  Value loss:  0.2559014  Entropy loss:  -0.042709615\n",
      "Total loss:  -0.056035254  Policy loss:  -0.34484297  Value loss:  0.32780164  Entropy loss:  -0.03899393\n",
      "Total loss:  0.190563  Policy loss:  0.023905443  Value loss:  0.2114662  Entropy loss:  -0.044808634\n",
      "Total loss:  0.025202189  Policy loss:  -0.32362854  Value loss:  0.39285928  Entropy loss:  -0.044028547\n",
      "Total loss:  0.87699664  Policy loss:  0.92231464  Value loss:  0.00018197384  Entropy loss:  -0.045499995\n",
      "Early stopping at step 0 due to reaching max kl.\n",
      "Epoch: 19 | Loss: 0.26544761657714844\n",
      "Reward rollout:  147.0\n",
      "Epoch: 20 | Rollout completed\n",
      "(4096, 64, 64, 3) (4096,) (4096,) (4096,) (4096,)\n",
      "Total loss:  0.2638974  Policy loss:  0.0810475  Value loss:  0.22096825  Entropy loss:  -0.038118355\n",
      "Total loss:  0.42822745  Policy loss:  0.3193008  Value loss:  0.14894488  Entropy loss:  -0.04001822\n",
      "Total loss:  0.3135514  Policy loss:  0.083244994  Value loss:  0.26992822  Entropy loss:  -0.039621796\n",
      "Total loss:  -0.09698247  Policy loss:  -0.6606977  Value loss:  0.6007942  Entropy loss:  -0.03707897\n",
      "Total loss:  0.05364642  Policy loss:  -0.40811017  Value loss:  0.50092196  Entropy loss:  -0.039165374\n",
      "Total loss:  0.5281103  Policy loss:  0.46789587  Value loss:  0.101650044  Entropy loss:  -0.041435625\n",
      "Total loss:  0.22832566  Policy loss:  -0.058179643  Value loss:  0.3260956  Entropy loss:  -0.0395903\n",
      "Total loss:  0.1273022  Policy loss:  -0.39914903  Value loss:  0.56719637  Entropy loss:  -0.04074513\n",
      "Total loss:  0.60255396  Policy loss:  0.56919926  Value loss:  0.07064692  Entropy loss:  -0.037292242\n",
      "Total loss:  0.501404  Policy loss:  0.36683953  Value loss:  0.17497818  Entropy loss:  -0.040413756\n",
      "Total loss:  0.33039445  Policy loss:  -0.24490829  Value loss:  0.6129983  Entropy loss:  -0.03769558\n",
      "Total loss:  0.17382663  Policy loss:  -0.11441537  Value loss:  0.3231566  Entropy loss:  -0.03491458\n",
      "Total loss:  0.8479893  Policy loss:  0.88221586  Value loss:  6.238818e-05  Entropy loss:  -0.03428895\n",
      "Early stopping at step 0 due to reaching max kl.\n",
      "Epoch: 20 | Loss: 0.3309420943260193\n",
      "pathActor: ./weights/starpilot/actor.keras\n",
      "pathCritic: ./weights/starpilot/critic.keras\n",
      "Model saved at epoch:  20\n",
      "Warning: early reset ignored\n",
      "Episode reward: 2.0\n",
      "Episode reward: 2.0\n",
      "Episode reward: 0.0\n",
      "Episode reward: 0.0\n",
      "Episode reward: 4.0\n",
      "Episode reward: 0.0\n",
      "Episode reward: 0.0\n",
      "Episode reward: 1.0\n",
      "Episode reward: 1.0\n",
      "Episode reward: 1.0\n",
      "Average Reward: 1.10\n",
      "Min Reward: 0.00\n",
      "Max Reward: 4.00\n",
      "Cumulative Reward: 11.00\n",
      "Reward rollout:  119.0\n",
      "Epoch: 21 | Rollout completed\n",
      "(4096, 64, 64, 3) (4096,) (4096,) (4096,) (4096,)\n",
      "Total loss:  0.094370835  Policy loss:  -0.08988606  Value loss:  0.21836129  Entropy loss:  -0.034104384\n",
      "Total loss:  0.27384493  Policy loss:  0.17697397  Value loss:  0.13197078  Entropy loss:  -0.035099823\n",
      "Total loss:  0.09054409  Policy loss:  -0.09385222  Value loss:  0.22151479  Entropy loss:  -0.037118483\n",
      "Total loss:  0.34790704  Policy loss:  0.22931854  Value loss:  0.15276846  Entropy loss:  -0.034179956\n",
      "Total loss:  0.027404372  Policy loss:  -0.20591217  Value loss:  0.26629683  Entropy loss:  -0.03298029\n",
      "Total loss:  0.0041740052  Policy loss:  -0.20853795  Value loss:  0.24816805  Entropy loss:  -0.035456095\n",
      "Total loss:  0.24629892  Policy loss:  0.074581094  Value loss:  0.20609587  Entropy loss:  -0.034378033\n",
      "Total loss:  0.18811093  Policy loss:  0.07008389  Value loss:  0.15295362  Entropy loss:  -0.034926575\n",
      "Total loss:  -0.03136285  Policy loss:  -0.39520496  Value loss:  0.4018238  Entropy loss:  -0.037981678\n",
      "Total loss:  0.24797162  Policy loss:  0.06999185  Value loss:  0.21506771  Entropy loss:  -0.037087955\n",
      "Total loss:  0.18645626  Policy loss:  0.05848692  Value loss:  0.16456063  Entropy loss:  -0.036591284\n",
      "Total loss:  0.3755427  Policy loss:  0.2884506  Value loss:  0.12353059  Entropy loss:  -0.03643848\n",
      "Total loss:  0.8851004  Policy loss:  0.9103932  Value loss:  9.319453e-05  Entropy loss:  -0.025386\n",
      "Early stopping at step 0 due to reaching max kl.\n",
      "Epoch: 21 | Loss: 0.22587409615516663\n",
      "Reward rollout:  129.0\n",
      "Epoch: 22 | Rollout completed\n",
      "(4096, 64, 64, 3) (4096,) (4096,) (4096,) (4096,)\n",
      "Total loss:  0.3522897  Policy loss:  0.2354705  Value loss:  0.14963277  Entropy loss:  -0.03281357\n",
      "Total loss:  0.24265316  Policy loss:  0.004626059  Value loss:  0.27395624  Entropy loss:  -0.035929136\n",
      "Total loss:  0.12961546  Policy loss:  -0.20629834  Value loss:  0.36940494  Entropy loss:  -0.033491142\n",
      "Total loss:  0.026755348  Policy loss:  -0.32960472  Value loss:  0.392812  Entropy loss:  -0.03645195\n",
      "Total loss:  0.23970252  Policy loss:  0.045129944  Value loss:  0.23017745  Entropy loss:  -0.035604857\n",
      "Total loss:  0.1963379  Policy loss:  -0.015498488  Value loss:  0.24924207  Entropy loss:  -0.03740568\n",
      "Total loss:  0.06899611  Policy loss:  -0.2619659  Value loss:  0.36897507  Entropy loss:  -0.038013063\n",
      "Total loss:  0.19904695  Policy loss:  -0.030182075  Value loss:  0.2667306  Entropy loss:  -0.03750157\n",
      "Total loss:  0.4464666  Policy loss:  0.30455235  Value loss:  0.17846836  Entropy loss:  -0.036554128\n",
      "Total loss:  0.36580488  Policy loss:  0.21824335  Value loss:  0.18248616  Entropy loss:  -0.034924634\n",
      "Total loss:  0.19720542  Policy loss:  -0.05116168  Value loss:  0.28392634  Entropy loss:  -0.03555923\n",
      "Total loss:  0.24849471  Policy loss:  0.053823214  Value loss:  0.227528  Entropy loss:  -0.0328565\n",
      "Total loss:  1.2109872  Policy loss:  1.2518911  Value loss:  1.688668e-05  Entropy loss:  -0.0409208\n",
      "Total loss:  0.35151646  Policy loss:  0.23469423  Value loss:  0.14963277  Entropy loss:  -0.03281053\n",
      "Total loss:  0.23375487  Policy loss:  -0.0043502008  Value loss:  0.27395624  Entropy loss:  -0.035851143\n",
      "Total loss:  0.1243197  Policy loss:  -0.21169117  Value loss:  0.36940494  Entropy loss:  -0.03339407\n",
      "Total loss:  0.01646746  Policy loss:  -0.33997083  Value loss:  0.392812  Entropy loss:  -0.036373727\n",
      "Total loss:  0.2365225  Policy loss:  0.04228734  Value loss:  0.23017745  Entropy loss:  -0.03594228\n",
      "Total loss:  0.19694388  Policy loss:  -0.014673955  Value loss:  0.24924207  Entropy loss:  -0.037624247\n",
      "Total loss:  0.07171486  Policy loss:  -0.2592883  Value loss:  0.36897507  Entropy loss:  -0.037971895\n",
      "Total loss:  0.18710107  Policy loss:  -0.042102855  Value loss:  0.2667306  Entropy loss:  -0.03752668\n",
      "Total loss:  0.44352365  Policy loss:  0.30147415  Value loss:  0.17846836  Entropy loss:  -0.03641887\n",
      "Total loss:  0.35819942  Policy loss:  0.21031775  Value loss:  0.18248616  Entropy loss:  -0.03460449\n",
      "Total loss:  0.19289099  Policy loss:  -0.055752758  Value loss:  0.28392634  Entropy loss:  -0.035282597\n",
      "Total loss:  0.23961553  Policy loss:  0.04446645  Value loss:  0.227528  Entropy loss:  -0.03237894\n",
      "Total loss:  1.024818  Policy loss:  1.0659184  Value loss:  1.688668e-05  Entropy loss:  -0.041117433\n",
      "Early stopping at step 1 due to reaching max kl.\n",
      "Epoch: 22 | Loss: 0.28287601470947266\n",
      "Reward rollout:  119.0\n",
      "Epoch: 23 | Rollout completed\n",
      "(4096, 64, 64, 3) (4096,) (4096,) (4096,) (4096,)\n",
      "Total loss:  0.10860455  Policy loss:  -0.09247469  Value loss:  0.23528914  Entropy loss:  -0.034209903\n",
      "Total loss:  0.08824958  Policy loss:  -0.0887139  Value loss:  0.20872885  Entropy loss:  -0.031765375\n",
      "Total loss:  0.11619238  Policy loss:  -0.23593028  Value loss:  0.38573426  Entropy loss:  -0.033611603\n",
      "Total loss:  0.13474265  Policy loss:  -0.039314102  Value loss:  0.20904684  Entropy loss:  -0.034990083\n",
      "Total loss:  0.2401824  Policy loss:  0.13488673  Value loss:  0.14046077  Entropy loss:  -0.035165094\n",
      "Total loss:  0.4261604  Policy loss:  0.3668917  Value loss:  0.09297857  Entropy loss:  -0.03370988\n",
      "Total loss:  0.11155866  Policy loss:  -0.099761516  Value loss:  0.24606095  Entropy loss:  -0.034740772\n",
      "Total loss:  0.22945991  Policy loss:  0.07571374  Value loss:  0.18578184  Entropy loss:  -0.032035686\n",
      "Total loss:  0.25609383  Policy loss:  0.08215283  Value loss:  0.20309947  Entropy loss:  -0.029158475\n",
      "Total loss:  0.26482797  Policy loss:  0.13043861  Value loss:  0.17040639  Entropy loss:  -0.03601702\n",
      "Total loss:  0.5706942  Policy loss:  0.5562793  Value loss:  0.049144365  Entropy loss:  -0.034729484\n",
      "Total loss:  -0.32931477  Policy loss:  -0.8416469  Value loss:  0.546597  Entropy loss:  -0.034264874\n",
      "Total loss:  0.9349958  Policy loss:  0.9757122  Value loss:  6.644156e-05  Entropy loss:  -0.040782854\n",
      "Early stopping at step 0 due to reaching max kl.\n",
      "Epoch: 23 | Loss: 0.24249598383903503\n",
      "Reward rollout:  117.0\n",
      "Epoch: 24 | Rollout completed\n",
      "(4096, 64, 64, 3) (4096,) (4096,) (4096,) (4096,)\n",
      "Total loss:  0.28506872  Policy loss:  0.13720271  Value loss:  0.18347776  Entropy loss:  -0.035611738\n",
      "Total loss:  0.13603503  Policy loss:  -0.08063818  Value loss:  0.24997668  Entropy loss:  -0.033303462\n",
      "Total loss:  0.23642085  Policy loss:  0.13521956  Value loss:  0.13483919  Entropy loss:  -0.033637892\n",
      "Total loss:  0.19262037  Policy loss:  -0.09272372  Value loss:  0.3161566  Entropy loss:  -0.0308125\n",
      "Total loss:  0.23602505  Policy loss:  0.043394186  Value loss:  0.2228547  Entropy loss:  -0.03022383\n",
      "Total loss:  0.2682922  Policy loss:  0.1588679  Value loss:  0.14303455  Entropy loss:  -0.033610266\n",
      "Total loss:  0.30563936  Policy loss:  0.16887555  Value loss:  0.17206703  Entropy loss:  -0.035303213\n",
      "Total loss:  0.1870912  Policy loss:  0.03636897  Value loss:  0.18311362  Entropy loss:  -0.032391384\n",
      "Total loss:  0.101904765  Policy loss:  -0.2428916  Value loss:  0.3757757  Entropy loss:  -0.030979333\n",
      "Total loss:  0.2896695  Policy loss:  0.038352042  Value loss:  0.28947943  Entropy loss:  -0.038161978\n",
      "Total loss:  0.26992676  Policy loss:  0.1738617  Value loss:  0.12647064  Entropy loss:  -0.030405568\n",
      "Total loss:  0.059861578  Policy loss:  -0.38492435  Value loss:  0.47972202  Entropy loss:  -0.034936093\n",
      "Total loss:  0.8458509  Policy loss:  0.88694966  Value loss:  0.00013897048  Entropy loss:  -0.041237775\n",
      "Total loss:  0.2879843  Policy loss:  0.1399487  Value loss:  0.18347776  Entropy loss:  -0.035442144\n",
      "Total loss:  0.1287843  Policy loss:  -0.08806171  Value loss:  0.24997668  Entropy loss:  -0.03313068\n",
      "Total loss:  0.2269393  Policy loss:  0.12561211  Value loss:  0.13483919  Entropy loss:  -0.03351201\n",
      "Total loss:  0.18457147  Policy loss:  -0.10097383  Value loss:  0.3161566  Entropy loss:  -0.030611284\n",
      "Total loss:  0.23376186  Policy loss:  0.04124186  Value loss:  0.2228547  Entropy loss:  -0.030334696\n",
      "Total loss:  0.26638594  Policy loss:  0.15726791  Value loss:  0.14303455  Entropy loss:  -0.03391651\n",
      "Total loss:  0.29709113  Policy loss:  0.16079922  Value loss:  0.17206703  Entropy loss:  -0.035775136\n",
      "Total loss:  0.18940699  Policy loss:  0.039125454  Value loss:  0.18311362  Entropy loss:  -0.032832086\n",
      "Total loss:  0.103857204  Policy loss:  -0.24023099  Value loss:  0.3757757  Entropy loss:  -0.031687494\n",
      "Total loss:  0.27805233  Policy loss:  0.027108684  Value loss:  0.28947943  Entropy loss:  -0.03853576\n",
      "Total loss:  0.26239502  Policy loss:  0.16711932  Value loss:  0.12647064  Entropy loss:  -0.031194935\n",
      "Total loss:  0.044866696  Policy loss:  -0.39939266  Value loss:  0.47972202  Entropy loss:  -0.035462663\n",
      "Total loss:  0.6764896  Policy loss:  0.7182876  Value loss:  0.00013897048  Entropy loss:  -0.041936986\n",
      "Early stopping at step 1 due to reaching max kl.\n",
      "Epoch: 24 | Loss: 0.24466048181056976\n"
     ]
    }
   ],
   "source": [
    "\n",
    "\n",
    "for epoch in range(ppo.nEpochs):                                            # Main training loop for n epochs\n",
    "\n",
    "        obs ,actions ,logp , returns, advs = ppo.rollout()                                  # Get Rollout and infos\n",
    "        #Check if batches contains nan or inf values\n",
    "        try:\n",
    "                tf.debugging.check_numerics(tf.cast(obs, tf.float32), \"obs_batch has nan or inf values\")\n",
    "                tf.debugging.check_numerics(tf.cast(actions, tf.float32), \"actions_batch has nan or inf values\")\n",
    "                tf.debugging.check_numerics(logp, \"logp_t_batch has nan or inf values\")\n",
    "                tf.debugging.check_numerics(advs, \"advs_batch has nan or inf values\")\n",
    "                tf.debugging.check_numerics(returns, \"returns_batch has nan or inf values\")\n",
    "        except:\n",
    "                print(\"OBS:\")\n",
    "                print(obs)\n",
    "                print(\"logp BATCH HAS NAN OR INF VALUES\")\n",
    "                print(logp)\n",
    "                print(\"ADVS BATCH HAS NAN OR INF VALUES\")\n",
    "                print(advs)\n",
    "                print(\"returns BATCH HAS NAN OR INF VALUES\")\n",
    "                print(returns)\n",
    "                break\n",
    "                \n",
    "        print(f\"Epoch: {epoch} | Rollout completed\")                     # Print loss for each epoch\n",
    "        print(obs.shape,actions.shape,logp.shape,returns.shape,advs.shape)\n",
    "        total_loss = ppo.train(obs,actions,advs,returns,logp)                                         # Push rollout in ppo and update policy accordingly\n",
    "        print(f\"Epoch: {epoch} | Loss: {total_loss}\")                     # Print loss for each epoch\n",
    "        ppo.save_model(epoch=epoch)\n",
    "        ppo.update_hyperparams(epoch=epoch)\n",
    "        if epoch % 5 ==0:\n",
    "                ppo.evaluate_model()\n",
    "        del obs ,actions ,logp , returns, advs\n",
    "        \n"
   ]
  },
  {
   "cell_type": "code",
   "execution_count": 20,
   "metadata": {},
   "outputs": [
    {
     "data": {
      "image/png": "[encoded data removed]",
      "text/plain": [
       "<Figure size 1000x600 with 1 Axes>"
      ]
     },
     "metadata": {},
     "output_type": "display_data"
    }
   ],
   "source": [
    "#Show graphs\n",
    "\n",
    "dataLogger.showGraphAverageReward()"
   ]
  },
  {
   "cell_type": "code",
   "execution_count": 21,
   "metadata": {},
   "outputs": [
    {
     "data": {
      "image/png": "[encoded data removed]",
      "text/plain": [
       "<Figure size 1000x600 with 1 Axes>"
      ]
     },
     "metadata": {},
     "output_type": "display_data"
    }
   ],
   "source": [
    "\n",
    "dataLogger.showGraphCumulativeReward()"
   ]
  },
  {
   "cell_type": "code",
   "execution_count": 22,
   "metadata": {},
   "outputs": [
    {
     "name": "stdout",
     "output_type": "stream",
     "text": [
      "ACTOR CRITIC LOADED\n"
     ]
    },
    {
     "data": {
      "text/html": [
       "<pre style=\"white-space:pre;overflow-x:auto;line-height:normal;font-family:Menlo,'DejaVu Sans Mono',consolas,'Courier New',monospace\"><span style=\"font-weight: bold\">Model: \"actor_ppo\"</span>\n",
       "</pre>\n"
      ],
      "text/plain": [
       "\u001b[1mModel: \"actor_ppo\"\u001b[0m\n"
      ]
     },
     "metadata": {},
     "output_type": "display_data"
    },
    {
     "data": {
      "text/html": [
       "<pre style=\"white-space:pre;overflow-x:auto;line-height:normal;font-family:Menlo,'DejaVu Sans Mono',consolas,'Courier New',monospace\">┏━━━━━━━━━━━━━━━━━━━━━━━━━━━━━━━━━┳━━━━━━━━━━━━━━━━━━━━━━━━┳━━━━━━━━━━━━━━━┓\n",
       "┃<span style=\"font-weight: bold\"> Layer (type)                    </span>┃<span style=\"font-weight: bold\"> Output Shape           </span>┃<span style=\"font-weight: bold\">       Param # </span>┃\n",
       "┡━━━━━━━━━━━━━━━━━━━━━━━━━━━━━━━━━╇━━━━━━━━━━━━━━━━━━━━━━━━╇━━━━━━━━━━━━━━━┩\n",
       "│ sequential_14 (<span style=\"color: #0087ff; text-decoration-color: #0087ff\">Sequential</span>)      │ (<span style=\"color: #00d7ff; text-decoration-color: #00d7ff\">None</span>, <span style=\"color: #00af00; text-decoration-color: #00af00\">128</span>)            │        <span style=\"color: #00af00; text-decoration-color: #00af00\">44,096</span> │\n",
       "├─────────────────────────────────┼────────────────────────┼───────────────┤\n",
       "│ actor_ppo_dense4 (<span style=\"color: #0087ff; text-decoration-color: #0087ff\">Dense</span>)        │ (<span style=\"color: #00af00; text-decoration-color: #00af00\">1</span>, <span style=\"color: #00af00; text-decoration-color: #00af00\">15</span>)                │         <span style=\"color: #00af00; text-decoration-color: #00af00\">1,935</span> │\n",
       "└─────────────────────────────────┴────────────────────────┴───────────────┘\n",
       "</pre>\n"
      ],
      "text/plain": [
       "┏━━━━━━━━━━━━━━━━━━━━━━━━━━━━━━━━━┳━━━━━━━━━━━━━━━━━━━━━━━━┳━━━━━━━━━━━━━━━┓\n",
       "┃\u001b[1m \u001b[0m\u001b[1mLayer (type)                   \u001b[0m\u001b[1m \u001b[0m┃\u001b[1m \u001b[0m\u001b[1mOutput Shape          \u001b[0m\u001b[1m \u001b[0m┃\u001b[1m \u001b[0m\u001b[1m      Param #\u001b[0m\u001b[1m \u001b[0m┃\n",
       "┡━━━━━━━━━━━━━━━━━━━━━━━━━━━━━━━━━╇━━━━━━━━━━━━━━━━━━━━━━━━╇━━━━━━━━━━━━━━━┩\n",
       "│ sequential_14 (\u001b[38;5;33mSequential\u001b[0m)      │ (\u001b[38;5;45mNone\u001b[0m, \u001b[38;5;34m128\u001b[0m)            │        \u001b[38;5;34m44,096\u001b[0m │\n",
       "├─────────────────────────────────┼────────────────────────┼───────────────┤\n",
       "│ actor_ppo_dense4 (\u001b[38;5;33mDense\u001b[0m)        │ (\u001b[38;5;34m1\u001b[0m, \u001b[38;5;34m15\u001b[0m)                │         \u001b[38;5;34m1,935\u001b[0m │\n",
       "└─────────────────────────────────┴────────────────────────┴───────────────┘\n"
      ]
     },
     "metadata": {},
     "output_type": "display_data"
    },
    {
     "data": {
      "text/html": [
       "<pre style=\"white-space:pre;overflow-x:auto;line-height:normal;font-family:Menlo,'DejaVu Sans Mono',consolas,'Courier New',monospace\"><span style=\"font-weight: bold\"> Total params: </span><span style=\"color: #00af00; text-decoration-color: #00af00\">138,095</span> (539.44 KB)\n",
       "</pre>\n"
      ],
      "text/plain": [
       "\u001b[1m Total params: \u001b[0m\u001b[38;5;34m138,095\u001b[0m (539.44 KB)\n"
      ]
     },
     "metadata": {},
     "output_type": "display_data"
    },
    {
     "data": {
      "text/html": [
       "<pre style=\"white-space:pre;overflow-x:auto;line-height:normal;font-family:Menlo,'DejaVu Sans Mono',consolas,'Courier New',monospace\"><span style=\"font-weight: bold\"> Trainable params: </span><span style=\"color: #00af00; text-decoration-color: #00af00\">46,031</span> (179.81 KB)\n",
       "</pre>\n"
      ],
      "text/plain": [
       "\u001b[1m Trainable params: \u001b[0m\u001b[38;5;34m46,031\u001b[0m (179.81 KB)\n"
      ]
     },
     "metadata": {},
     "output_type": "display_data"
    },
    {
     "data": {
      "text/html": [
       "<pre style=\"white-space:pre;overflow-x:auto;line-height:normal;font-family:Menlo,'DejaVu Sans Mono',consolas,'Courier New',monospace\"><span style=\"font-weight: bold\"> Non-trainable params: </span><span style=\"color: #00af00; text-decoration-color: #00af00\">0</span> (0.00 B)\n",
       "</pre>\n"
      ],
      "text/plain": [
       "\u001b[1m Non-trainable params: \u001b[0m\u001b[38;5;34m0\u001b[0m (0.00 B)\n"
      ]
     },
     "metadata": {},
     "output_type": "display_data"
    },
    {
     "data": {
      "text/html": [
       "<pre style=\"white-space:pre;overflow-x:auto;line-height:normal;font-family:Menlo,'DejaVu Sans Mono',consolas,'Courier New',monospace\"><span style=\"font-weight: bold\"> Optimizer params: </span><span style=\"color: #00af00; text-decoration-color: #00af00\">92,064</span> (359.63 KB)\n",
       "</pre>\n"
      ],
      "text/plain": [
       "\u001b[1m Optimizer params: \u001b[0m\u001b[38;5;34m92,064\u001b[0m (359.63 KB)\n"
      ]
     },
     "metadata": {},
     "output_type": "display_data"
    },
    {
     "data": {
      "text/html": [
       "<pre style=\"white-space:pre;overflow-x:auto;line-height:normal;font-family:Menlo,'DejaVu Sans Mono',consolas,'Courier New',monospace\"><span style=\"font-weight: bold\">Model: \"critic_ppo\"</span>\n",
       "</pre>\n"
      ],
      "text/plain": [
       "\u001b[1mModel: \"critic_ppo\"\u001b[0m\n"
      ]
     },
     "metadata": {},
     "output_type": "display_data"
    },
    {
     "data": {
      "text/html": [
       "<pre style=\"white-space:pre;overflow-x:auto;line-height:normal;font-family:Menlo,'DejaVu Sans Mono',consolas,'Courier New',monospace\">┏━━━━━━━━━━━━━━━━━━━━━━━━━━━━━━━━━┳━━━━━━━━━━━━━━━━━━━━━━━━┳━━━━━━━━━━━━━━━┓\n",
       "┃<span style=\"font-weight: bold\"> Layer (type)                    </span>┃<span style=\"font-weight: bold\"> Output Shape           </span>┃<span style=\"font-weight: bold\">       Param # </span>┃\n",
       "┡━━━━━━━━━━━━━━━━━━━━━━━━━━━━━━━━━╇━━━━━━━━━━━━━━━━━━━━━━━━╇━━━━━━━━━━━━━━━┩\n",
       "│ sequential_15 (<span style=\"color: #0087ff; text-decoration-color: #0087ff\">Sequential</span>)      │ (<span style=\"color: #00d7ff; text-decoration-color: #00d7ff\">None</span>, <span style=\"color: #00af00; text-decoration-color: #00af00\">128</span>)            │        <span style=\"color: #00af00; text-decoration-color: #00af00\">44,096</span> │\n",
       "├─────────────────────────────────┼────────────────────────┼───────────────┤\n",
       "│ critic_ppo_dense4 (<span style=\"color: #0087ff; text-decoration-color: #0087ff\">Dense</span>)       │ (<span style=\"color: #00af00; text-decoration-color: #00af00\">1</span>, <span style=\"color: #00af00; text-decoration-color: #00af00\">1</span>)                 │           <span style=\"color: #00af00; text-decoration-color: #00af00\">129</span> │\n",
       "└─────────────────────────────────┴────────────────────────┴───────────────┘\n",
       "</pre>\n"
      ],
      "text/plain": [
       "┏━━━━━━━━━━━━━━━━━━━━━━━━━━━━━━━━━┳━━━━━━━━━━━━━━━━━━━━━━━━┳━━━━━━━━━━━━━━━┓\n",
       "┃\u001b[1m \u001b[0m\u001b[1mLayer (type)                   \u001b[0m\u001b[1m \u001b[0m┃\u001b[1m \u001b[0m\u001b[1mOutput Shape          \u001b[0m\u001b[1m \u001b[0m┃\u001b[1m \u001b[0m\u001b[1m      Param #\u001b[0m\u001b[1m \u001b[0m┃\n",
       "┡━━━━━━━━━━━━━━━━━━━━━━━━━━━━━━━━━╇━━━━━━━━━━━━━━━━━━━━━━━━╇━━━━━━━━━━━━━━━┩\n",
       "│ sequential_15 (\u001b[38;5;33mSequential\u001b[0m)      │ (\u001b[38;5;45mNone\u001b[0m, \u001b[38;5;34m128\u001b[0m)            │        \u001b[38;5;34m44,096\u001b[0m │\n",
       "├─────────────────────────────────┼────────────────────────┼───────────────┤\n",
       "│ critic_ppo_dense4 (\u001b[38;5;33mDense\u001b[0m)       │ (\u001b[38;5;34m1\u001b[0m, \u001b[38;5;34m1\u001b[0m)                 │           \u001b[38;5;34m129\u001b[0m │\n",
       "└─────────────────────────────────┴────────────────────────┴───────────────┘\n"
      ]
     },
     "metadata": {},
     "output_type": "display_data"
    },
    {
     "data": {
      "text/html": [
       "<pre style=\"white-space:pre;overflow-x:auto;line-height:normal;font-family:Menlo,'DejaVu Sans Mono',consolas,'Courier New',monospace\"><span style=\"font-weight: bold\"> Total params: </span><span style=\"color: #00af00; text-decoration-color: #00af00\">132,677</span> (518.27 KB)\n",
       "</pre>\n"
      ],
      "text/plain": [
       "\u001b[1m Total params: \u001b[0m\u001b[38;5;34m132,677\u001b[0m (518.27 KB)\n"
      ]
     },
     "metadata": {},
     "output_type": "display_data"
    },
    {
     "data": {
      "text/html": [
       "<pre style=\"white-space:pre;overflow-x:auto;line-height:normal;font-family:Menlo,'DejaVu Sans Mono',consolas,'Courier New',monospace\"><span style=\"font-weight: bold\"> Trainable params: </span><span style=\"color: #00af00; text-decoration-color: #00af00\">44,225</span> (172.75 KB)\n",
       "</pre>\n"
      ],
      "text/plain": [
       "\u001b[1m Trainable params: \u001b[0m\u001b[38;5;34m44,225\u001b[0m (172.75 KB)\n"
      ]
     },
     "metadata": {},
     "output_type": "display_data"
    },
    {
     "data": {
      "text/html": [
       "<pre style=\"white-space:pre;overflow-x:auto;line-height:normal;font-family:Menlo,'DejaVu Sans Mono',consolas,'Courier New',monospace\"><span style=\"font-weight: bold\"> Non-trainable params: </span><span style=\"color: #00af00; text-decoration-color: #00af00\">0</span> (0.00 B)\n",
       "</pre>\n"
      ],
      "text/plain": [
       "\u001b[1m Non-trainable params: \u001b[0m\u001b[38;5;34m0\u001b[0m (0.00 B)\n"
      ]
     },
     "metadata": {},
     "output_type": "display_data"
    },
    {
     "data": {
      "text/html": [
       "<pre style=\"white-space:pre;overflow-x:auto;line-height:normal;font-family:Menlo,'DejaVu Sans Mono',consolas,'Courier New',monospace\"><span style=\"font-weight: bold\"> Optimizer params: </span><span style=\"color: #00af00; text-decoration-color: #00af00\">88,452</span> (345.52 KB)\n",
       "</pre>\n"
      ],
      "text/plain": [
       "\u001b[1m Optimizer params: \u001b[0m\u001b[38;5;34m88,452\u001b[0m (345.52 KB)\n"
      ]
     },
     "metadata": {},
     "output_type": "display_data"
    },
    {
     "name": "stdout",
     "output_type": "stream",
     "text": [
      "Episode reward: 0.0\n",
      "Episode reward: 1.0\n",
      "Episode reward: 1.0\n",
      "Episode reward: 2.0\n",
      "Episode reward: 0.0\n",
      "Episode reward: 0.0\n",
      "Episode reward: 0.0\n",
      "Episode reward: 1.0\n",
      "Episode reward: 6.0\n",
      "Episode reward: 0.0\n",
      "Episode reward: 1.0\n",
      "Episode reward: 0.0\n",
      "Episode reward: 1.0\n",
      "Episode reward: 0.0\n",
      "Episode reward: 2.0\n",
      "Episode reward: 0.0\n",
      "Episode reward: 5.0\n",
      "Episode reward: 4.0\n",
      "Episode reward: 14.0\n",
      "Episode reward: 0.0\n",
      "Episode reward: 0.0\n",
      "Episode reward: 1.0\n",
      "Episode reward: 1.0\n",
      "Episode reward: 1.0\n",
      "Episode reward: 1.0\n",
      "Episode reward: 0.0\n",
      "Episode reward: 0.0\n",
      "Episode reward: 6.0\n",
      "Episode reward: 2.0\n",
      "Episode reward: 0.0\n",
      "Episode reward: 14.0\n",
      "Episode reward: 2.0\n",
      "Episode reward: 2.0\n",
      "Episode reward: 1.0\n",
      "Episode reward: 1.0\n",
      "Episode reward: 0.0\n",
      "Episode reward: 6.0\n",
      "Episode reward: 0.0\n",
      "Episode reward: 0.0\n",
      "Episode reward: 1.0\n",
      "Episode reward: 1.0\n",
      "Episode reward: 2.0\n",
      "Episode reward: 1.0\n",
      "Episode reward: 0.0\n",
      "Episode reward: 1.0\n",
      "Episode reward: 6.0\n",
      "Episode reward: 0.0\n",
      "Episode reward: 0.0\n",
      "Episode reward: 0.0\n",
      "Episode reward: 1.0\n",
      "Episode reward: 1.0\n",
      "Episode reward: 0.0\n",
      "Episode reward: 0.0\n",
      "Episode reward: 3.0\n",
      "Episode reward: 1.0\n",
      "Episode reward: 3.0\n",
      "Episode reward: 1.0\n",
      "Episode reward: 2.0\n",
      "Episode reward: 5.0\n",
      "Episode reward: 1.0\n",
      "Episode reward: 1.0\n",
      "Episode reward: 1.0\n",
      "Episode reward: 0.0\n",
      "Episode reward: 6.0\n",
      "Episode reward: 5.0\n",
      "Episode reward: 1.0\n",
      "Episode reward: 0.0\n",
      "Episode reward: 5.0\n",
      "Episode reward: 0.0\n",
      "Episode reward: 2.0\n",
      "Episode reward: 1.0\n",
      "Episode reward: 6.0\n",
      "Episode reward: 1.0\n",
      "Episode reward: 2.0\n",
      "Episode reward: 4.0\n",
      "Episode reward: 0.0\n",
      "Episode reward: 3.0\n",
      "Episode reward: 3.0\n",
      "Episode reward: 2.0\n",
      "Episode reward: 14.0\n",
      "Episode reward: 1.0\n",
      "Episode reward: 3.0\n",
      "Episode reward: 1.0\n",
      "Episode reward: 6.0\n",
      "Episode reward: 0.0\n",
      "Episode reward: 0.0\n",
      "Episode reward: 0.0\n",
      "Episode reward: 0.0\n",
      "Episode reward: 4.0\n",
      "Episode reward: 1.0\n",
      "Episode reward: 0.0\n",
      "Episode reward: 1.0\n",
      "Episode reward: 1.0\n",
      "Episode reward: 0.0\n",
      "Episode reward: 9.0\n",
      "Episode reward: 1.0\n",
      "Episode reward: 4.0\n",
      "Episode reward: 0.0\n",
      "Episode reward: 3.0\n",
      "Episode reward: 2.0\n",
      "Average Reward: 2.00\n",
      "Min Reward: 0.00\n",
      "Max Reward: 14.00\n",
      "Cumulative Reward: 200.00\n"
     ]
    }
   ],
   "source": [
    "\n",
    "seed=1\n",
    "tf.random.set_seed(seed)\n",
    "np.random.seed(seed)\n",
    "env = gym.make('procgen:procgen-'+gameName+'-v0',distribution_mode='easy',start_level=seed,rand_seed=seed, num_levels=100, use_backgrounds=False)\n",
    "ppo_weighted=PPO(env,weightsPath=None,recorder=None,dataLogger=None,gameName=gameName,training=False)\n",
    "\n",
    "weighted_result=ppo_weighted.evaluate_model(100)\n",
    "del ppo_weighted\n"
   ]
  },
  {
   "cell_type": "code",
   "execution_count": 23,
   "metadata": {},
   "outputs": [
    {
     "name": "stdout",
     "output_type": "stream",
     "text": [
      "--------- EXCEPTION :\n",
      "File not found: filepath=../actor.keras. Please ensure the file is an accessible `.keras` zip file.\n",
      "Errore nel caricamento dei pesi\n"
     ]
    },
    {
     "data": {
      "text/html": [
       "<pre style=\"white-space:pre;overflow-x:auto;line-height:normal;font-family:Menlo,'DejaVu Sans Mono',consolas,'Courier New',monospace\"><span style=\"font-weight: bold\">Model: \"actor_ppo\"</span>\n",
       "</pre>\n"
      ],
      "text/plain": [
       "\u001b[1mModel: \"actor_ppo\"\u001b[0m\n"
      ]
     },
     "metadata": {},
     "output_type": "display_data"
    },
    {
     "data": {
      "text/html": [
       "<pre style=\"white-space:pre;overflow-x:auto;line-height:normal;font-family:Menlo,'DejaVu Sans Mono',consolas,'Courier New',monospace\">┏━━━━━━━━━━━━━━━━━━━━━━━━━━━━━━━━━┳━━━━━━━━━━━━━━━━━━━━━━━━┳━━━━━━━━━━━━━━━┓\n",
       "┃<span style=\"font-weight: bold\"> Layer (type)                    </span>┃<span style=\"font-weight: bold\"> Output Shape           </span>┃<span style=\"font-weight: bold\">       Param # </span>┃\n",
       "┡━━━━━━━━━━━━━━━━━━━━━━━━━━━━━━━━━╇━━━━━━━━━━━━━━━━━━━━━━━━╇━━━━━━━━━━━━━━━┩\n",
       "│ sequential_16 (<span style=\"color: #0087ff; text-decoration-color: #0087ff\">Sequential</span>)      │ (<span style=\"color: #00d7ff; text-decoration-color: #00d7ff\">None</span>, <span style=\"color: #00af00; text-decoration-color: #00af00\">128</span>)            │        <span style=\"color: #00af00; text-decoration-color: #00af00\">44,096</span> │\n",
       "├─────────────────────────────────┼────────────────────────┼───────────────┤\n",
       "│ actor_ppo_dense4 (<span style=\"color: #0087ff; text-decoration-color: #0087ff\">Dense</span>)        │ ?                      │   <span style=\"color: #00af00; text-decoration-color: #00af00\">0</span> (unbuilt) │\n",
       "└─────────────────────────────────┴────────────────────────┴───────────────┘\n",
       "</pre>\n"
      ],
      "text/plain": [
       "┏━━━━━━━━━━━━━━━━━━━━━━━━━━━━━━━━━┳━━━━━━━━━━━━━━━━━━━━━━━━┳━━━━━━━━━━━━━━━┓\n",
       "┃\u001b[1m \u001b[0m\u001b[1mLayer (type)                   \u001b[0m\u001b[1m \u001b[0m┃\u001b[1m \u001b[0m\u001b[1mOutput Shape          \u001b[0m\u001b[1m \u001b[0m┃\u001b[1m \u001b[0m\u001b[1m      Param #\u001b[0m\u001b[1m \u001b[0m┃\n",
       "┡━━━━━━━━━━━━━━━━━━━━━━━━━━━━━━━━━╇━━━━━━━━━━━━━━━━━━━━━━━━╇━━━━━━━━━━━━━━━┩\n",
       "│ sequential_16 (\u001b[38;5;33mSequential\u001b[0m)      │ (\u001b[38;5;45mNone\u001b[0m, \u001b[38;5;34m128\u001b[0m)            │        \u001b[38;5;34m44,096\u001b[0m │\n",
       "├─────────────────────────────────┼────────────────────────┼───────────────┤\n",
       "│ actor_ppo_dense4 (\u001b[38;5;33mDense\u001b[0m)        │ ?                      │   \u001b[38;5;34m0\u001b[0m (unbuilt) │\n",
       "└─────────────────────────────────┴────────────────────────┴───────────────┘\n"
      ]
     },
     "metadata": {},
     "output_type": "display_data"
    },
    {
     "data": {
      "text/html": [
       "<pre style=\"white-space:pre;overflow-x:auto;line-height:normal;font-family:Menlo,'DejaVu Sans Mono',consolas,'Courier New',monospace\"><span style=\"font-weight: bold\"> Total params: </span><span style=\"color: #00af00; text-decoration-color: #00af00\">44,096</span> (172.25 KB)\n",
       "</pre>\n"
      ],
      "text/plain": [
       "\u001b[1m Total params: \u001b[0m\u001b[38;5;34m44,096\u001b[0m (172.25 KB)\n"
      ]
     },
     "metadata": {},
     "output_type": "display_data"
    },
    {
     "data": {
      "text/html": [
       "<pre style=\"white-space:pre;overflow-x:auto;line-height:normal;font-family:Menlo,'DejaVu Sans Mono',consolas,'Courier New',monospace\"><span style=\"font-weight: bold\"> Trainable params: </span><span style=\"color: #00af00; text-decoration-color: #00af00\">44,096</span> (172.25 KB)\n",
       "</pre>\n"
      ],
      "text/plain": [
       "\u001b[1m Trainable params: \u001b[0m\u001b[38;5;34m44,096\u001b[0m (172.25 KB)\n"
      ]
     },
     "metadata": {},
     "output_type": "display_data"
    },
    {
     "data": {
      "text/html": [
       "<pre style=\"white-space:pre;overflow-x:auto;line-height:normal;font-family:Menlo,'DejaVu Sans Mono',consolas,'Courier New',monospace\"><span style=\"font-weight: bold\"> Non-trainable params: </span><span style=\"color: #00af00; text-decoration-color: #00af00\">0</span> (0.00 B)\n",
       "</pre>\n"
      ],
      "text/plain": [
       "\u001b[1m Non-trainable params: \u001b[0m\u001b[38;5;34m0\u001b[0m (0.00 B)\n"
      ]
     },
     "metadata": {},
     "output_type": "display_data"
    },
    {
     "data": {
      "text/html": [
       "<pre style=\"white-space:pre;overflow-x:auto;line-height:normal;font-family:Menlo,'DejaVu Sans Mono',consolas,'Courier New',monospace\"><span style=\"font-weight: bold\">Model: \"critic_ppo\"</span>\n",
       "</pre>\n"
      ],
      "text/plain": [
       "\u001b[1mModel: \"critic_ppo\"\u001b[0m\n"
      ]
     },
     "metadata": {},
     "output_type": "display_data"
    },
    {
     "data": {
      "text/html": [
       "<pre style=\"white-space:pre;overflow-x:auto;line-height:normal;font-family:Menlo,'DejaVu Sans Mono',consolas,'Courier New',monospace\">┏━━━━━━━━━━━━━━━━━━━━━━━━━━━━━━━━━┳━━━━━━━━━━━━━━━━━━━━━━━━┳━━━━━━━━━━━━━━━┓\n",
       "┃<span style=\"font-weight: bold\"> Layer (type)                    </span>┃<span style=\"font-weight: bold\"> Output Shape           </span>┃<span style=\"font-weight: bold\">       Param # </span>┃\n",
       "┡━━━━━━━━━━━━━━━━━━━━━━━━━━━━━━━━━╇━━━━━━━━━━━━━━━━━━━━━━━━╇━━━━━━━━━━━━━━━┩\n",
       "│ sequential_17 (<span style=\"color: #0087ff; text-decoration-color: #0087ff\">Sequential</span>)      │ (<span style=\"color: #00d7ff; text-decoration-color: #00d7ff\">None</span>, <span style=\"color: #00af00; text-decoration-color: #00af00\">128</span>)            │        <span style=\"color: #00af00; text-decoration-color: #00af00\">44,096</span> │\n",
       "├─────────────────────────────────┼────────────────────────┼───────────────┤\n",
       "│ critic_ppo_dense4 (<span style=\"color: #0087ff; text-decoration-color: #0087ff\">Dense</span>)       │ ?                      │   <span style=\"color: #00af00; text-decoration-color: #00af00\">0</span> (unbuilt) │\n",
       "└─────────────────────────────────┴────────────────────────┴───────────────┘\n",
       "</pre>\n"
      ],
      "text/plain": [
       "┏━━━━━━━━━━━━━━━━━━━━━━━━━━━━━━━━━┳━━━━━━━━━━━━━━━━━━━━━━━━┳━━━━━━━━━━━━━━━┓\n",
       "┃\u001b[1m \u001b[0m\u001b[1mLayer (type)                   \u001b[0m\u001b[1m \u001b[0m┃\u001b[1m \u001b[0m\u001b[1mOutput Shape          \u001b[0m\u001b[1m \u001b[0m┃\u001b[1m \u001b[0m\u001b[1m      Param #\u001b[0m\u001b[1m \u001b[0m┃\n",
       "┡━━━━━━━━━━━━━━━━━━━━━━━━━━━━━━━━━╇━━━━━━━━━━━━━━━━━━━━━━━━╇━━━━━━━━━━━━━━━┩\n",
       "│ sequential_17 (\u001b[38;5;33mSequential\u001b[0m)      │ (\u001b[38;5;45mNone\u001b[0m, \u001b[38;5;34m128\u001b[0m)            │        \u001b[38;5;34m44,096\u001b[0m │\n",
       "├─────────────────────────────────┼────────────────────────┼───────────────┤\n",
       "│ critic_ppo_dense4 (\u001b[38;5;33mDense\u001b[0m)       │ ?                      │   \u001b[38;5;34m0\u001b[0m (unbuilt) │\n",
       "└─────────────────────────────────┴────────────────────────┴───────────────┘\n"
      ]
     },
     "metadata": {},
     "output_type": "display_data"
    },
    {
     "data": {
      "text/html": [
       "<pre style=\"white-space:pre;overflow-x:auto;line-height:normal;font-family:Menlo,'DejaVu Sans Mono',consolas,'Courier New',monospace\"><span style=\"font-weight: bold\"> Total params: </span><span style=\"color: #00af00; text-decoration-color: #00af00\">44,096</span> (172.25 KB)\n",
       "</pre>\n"
      ],
      "text/plain": [
       "\u001b[1m Total params: \u001b[0m\u001b[38;5;34m44,096\u001b[0m (172.25 KB)\n"
      ]
     },
     "metadata": {},
     "output_type": "display_data"
    },
    {
     "data": {
      "text/html": [
       "<pre style=\"white-space:pre;overflow-x:auto;line-height:normal;font-family:Menlo,'DejaVu Sans Mono',consolas,'Courier New',monospace\"><span style=\"font-weight: bold\"> Trainable params: </span><span style=\"color: #00af00; text-decoration-color: #00af00\">44,096</span> (172.25 KB)\n",
       "</pre>\n"
      ],
      "text/plain": [
       "\u001b[1m Trainable params: \u001b[0m\u001b[38;5;34m44,096\u001b[0m (172.25 KB)\n"
      ]
     },
     "metadata": {},
     "output_type": "display_data"
    },
    {
     "data": {
      "text/html": [
       "<pre style=\"white-space:pre;overflow-x:auto;line-height:normal;font-family:Menlo,'DejaVu Sans Mono',consolas,'Courier New',monospace\"><span style=\"font-weight: bold\"> Non-trainable params: </span><span style=\"color: #00af00; text-decoration-color: #00af00\">0</span> (0.00 B)\n",
       "</pre>\n"
      ],
      "text/plain": [
       "\u001b[1m Non-trainable params: \u001b[0m\u001b[38;5;34m0\u001b[0m (0.00 B)\n"
      ]
     },
     "metadata": {},
     "output_type": "display_data"
    },
    {
     "name": "stdout",
     "output_type": "stream",
     "text": [
      "Episode reward: 0.0\n",
      "Episode reward: 0.0\n",
      "Episode reward: 1.0\n",
      "Episode reward: 2.0\n",
      "Episode reward: 2.0\n",
      "Episode reward: 4.0\n",
      "Episode reward: 0.0\n",
      "Episode reward: 0.0\n",
      "Episode reward: 4.0\n",
      "Episode reward: 0.0\n",
      "Episode reward: 1.0\n",
      "Episode reward: 0.0\n",
      "Episode reward: 0.0\n",
      "Episode reward: 5.0\n",
      "Episode reward: 0.0\n",
      "Episode reward: 0.0\n",
      "Episode reward: 0.0\n",
      "Episode reward: 0.0\n",
      "Episode reward: 0.0\n",
      "Episode reward: 0.0\n",
      "Episode reward: 2.0\n",
      "Episode reward: 1.0\n",
      "Episode reward: 2.0\n",
      "Episode reward: 2.0\n",
      "Episode reward: 3.0\n",
      "Episode reward: 3.0\n",
      "Episode reward: 2.0\n",
      "Episode reward: 0.0\n",
      "Episode reward: 0.0\n",
      "Episode reward: 2.0\n",
      "Episode reward: 0.0\n",
      "Episode reward: 1.0\n",
      "Episode reward: 0.0\n",
      "Episode reward: 0.0\n",
      "Episode reward: 0.0\n",
      "Episode reward: 1.0\n",
      "Episode reward: 0.0\n",
      "Episode reward: 0.0\n",
      "Episode reward: 0.0\n",
      "Episode reward: 2.0\n",
      "Episode reward: 3.0\n",
      "Episode reward: 1.0\n",
      "Episode reward: 4.0\n",
      "Episode reward: 2.0\n",
      "Episode reward: 4.0\n",
      "Episode reward: 7.0\n",
      "Episode reward: 1.0\n",
      "Episode reward: 0.0\n",
      "Episode reward: 0.0\n",
      "Episode reward: 0.0\n",
      "Episode reward: 1.0\n",
      "Episode reward: 3.0\n",
      "Episode reward: 2.0\n",
      "Episode reward: 0.0\n",
      "Episode reward: 7.0\n",
      "Episode reward: 0.0\n",
      "Episode reward: 3.0\n",
      "Episode reward: 4.0\n",
      "Episode reward: 0.0\n",
      "Episode reward: 6.0\n",
      "Episode reward: 1.0\n",
      "Episode reward: 6.0\n",
      "Episode reward: 6.0\n",
      "Episode reward: 5.0\n",
      "Episode reward: 1.0\n",
      "Episode reward: 5.0\n",
      "Episode reward: 2.0\n",
      "Episode reward: 2.0\n",
      "Episode reward: 0.0\n",
      "Episode reward: 1.0\n",
      "Episode reward: 0.0\n",
      "Episode reward: 2.0\n",
      "Episode reward: 6.0\n",
      "Episode reward: 0.0\n",
      "Episode reward: 0.0\n",
      "Episode reward: 1.0\n",
      "Episode reward: 0.0\n",
      "Episode reward: 2.0\n",
      "Episode reward: 4.0\n",
      "Episode reward: 4.0\n",
      "Episode reward: 0.0\n",
      "Episode reward: 0.0\n",
      "Episode reward: 0.0\n",
      "Episode reward: 1.0\n",
      "Episode reward: 0.0\n",
      "Episode reward: 0.0\n",
      "Episode reward: 5.0\n",
      "Episode reward: 0.0\n",
      "Episode reward: 1.0\n",
      "Episode reward: 0.0\n",
      "Episode reward: 0.0\n",
      "Episode reward: 0.0\n",
      "Episode reward: 2.0\n",
      "Episode reward: 4.0\n",
      "Episode reward: 0.0\n",
      "Episode reward: 1.0\n",
      "Episode reward: 0.0\n",
      "Episode reward: 0.0\n",
      "Episode reward: 0.0\n",
      "Episode reward: 1.0\n",
      "Average Reward: 1.51\n",
      "Min Reward: 0.00\n",
      "Max Reward: 7.00\n",
      "Cumulative Reward: 151.00\n"
     ]
    }
   ],
   "source": [
    "ppo_not_weighted=PPO(env,weightsPath=\"..\",recorder=None,dataLogger=None,gameName=gameName,training=False)\n",
    "\n",
    "result=ppo_not_weighted.evaluate_model(100,False)\n",
    "\n",
    "\n"
   ]
  },
  {
   "cell_type": "code",
   "execution_count": 24,
   "metadata": {},
   "outputs": [
    {
     "name": "stdout",
     "output_type": "stream",
     "text": [
      "Weighted model result:  (2.0, 0.0, 14.0, 200.0)\n",
      "Not weighted model result:  (1.51, 0.0, 7.0, 151.0)\n"
     ]
    }
   ],
   "source": [
    "print(\"Weighted model result: \",weighted_result)\n",
    "print(\"Not weighted model result: \",result)"
   ]
  }
 ],
 "metadata": {
  "kernelspec": {
   "display_name": "base",
   "language": "python",
   "name": "python3"
  },
  "language_info": {
   "codemirror_mode": {
    "name": "ipython",
    "version": 3
   },
   "file_extension": ".py",
   "mimetype": "text/x-python",
   "name": "python",
   "nbconvert_exporter": "python",
   "pygments_lexer": "ipython3",
   "version": "3.10.0"
  }
 },
 "nbformat": 4,
 "nbformat_minor": 2
}
